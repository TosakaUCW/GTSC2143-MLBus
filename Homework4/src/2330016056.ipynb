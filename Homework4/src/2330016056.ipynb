{
    "cells": [
        {
            "cell_type": "markdown",
            "metadata": {},
            "source": [
                "# GTSC2143 Machine Learning for Business\n",
                "## Tutorial 4: Predicting House Prices with Linear Regression"
            ]
        },
        {
            "cell_type": "markdown",
            "metadata": {},
            "source": [
                "---"
            ]
        },
        {
            "cell_type": "markdown",
            "metadata": {},
            "source": [
                "## Activity 1. Data Loading and Preprocessing"
            ]
        },
        {
            "cell_type": "markdown",
            "metadata": {},
            "source": [
                "### 1. Load the Dataset"
            ]
        },
        {
            "cell_type": "code",
            "execution_count": 25,
            "metadata": {},
            "outputs": [],
            "source": [
                "# a) Load necessary libraries\n",
                "import pandas as pd\n",
                "import numpy as np\n",
                "from sklearn.model_selection import train_test_split\n",
                "from sklearn.linear_model import LinearRegression\n",
                "from sklearn.metrics import mean_squared_error, r2_score\n",
                "import matplotlib.pyplot as plt\n",
                "import seaborn as sns\n",
                "\n",
                "data = pd.read_csv('GTSC2143-Lecture 4 predicting-house-prices-assignment_home_data.csv')"
            ]
        },
        {
            "cell_type": "markdown",
            "metadata": {},
            "source": [
                "#### b) Display basic information"
            ]
        },
        {
            "cell_type": "code",
            "execution_count": 26,
            "metadata": {},
            "outputs": [
                {
                    "name": "stdout",
                    "output_type": "stream",
                    "text": [
                        "Dataset Shape: (21613, 22)\n"
                    ]
                }
            ],
            "source": [
                "# Dataset shape\n",
                "print(f\"Dataset Shape: {data.shape}\")"
            ]
        },
        {
            "cell_type": "code",
            "execution_count": 27,
            "metadata": {},
            "outputs": [
                {
                    "name": "stdout",
                    "output_type": "stream",
                    "text": [
                        "\n",
                        "First 5 rows:\n"
                    ]
                },
                {
                    "data": {
                        "text/html": [
                            "<div>\n",
                            "<style scoped>\n",
                            "    .dataframe tbody tr th:only-of-type {\n",
                            "        vertical-align: middle;\n",
                            "    }\n",
                            "\n",
                            "    .dataframe tbody tr th {\n",
                            "        vertical-align: top;\n",
                            "    }\n",
                            "\n",
                            "    .dataframe thead th {\n",
                            "        text-align: right;\n",
                            "    }\n",
                            "</style>\n",
                            "<table border=\"1\" class=\"dataframe\">\n",
                            "  <thead>\n",
                            "    <tr style=\"text-align: right;\">\n",
                            "      <th></th>\n",
                            "      <th>id</th>\n",
                            "      <th>date</th>\n",
                            "      <th>price</th>\n",
                            "      <th>bedrooms</th>\n",
                            "      <th>bathrooms</th>\n",
                            "      <th>sqft_living</th>\n",
                            "      <th>sqft_lot</th>\n",
                            "      <th>floors</th>\n",
                            "      <th>waterfront</th>\n",
                            "      <th>view</th>\n",
                            "      <th>...</th>\n",
                            "      <th>sqft_above</th>\n",
                            "      <th>sqft_basement</th>\n",
                            "      <th>yr_built</th>\n",
                            "      <th>yr_renovated</th>\n",
                            "      <th>zipcode</th>\n",
                            "      <th>lat</th>\n",
                            "      <th>long</th>\n",
                            "      <th>sqft_living15</th>\n",
                            "      <th>sqft_lot15</th>\n",
                            "      <th>quick_sold</th>\n",
                            "    </tr>\n",
                            "  </thead>\n",
                            "  <tbody>\n",
                            "    <tr>\n",
                            "      <th>0</th>\n",
                            "      <td>7129300520</td>\n",
                            "      <td>20141013T000000</td>\n",
                            "      <td>221900</td>\n",
                            "      <td>3</td>\n",
                            "      <td>1.00</td>\n",
                            "      <td>1180</td>\n",
                            "      <td>5650</td>\n",
                            "      <td>1.0</td>\n",
                            "      <td>0</td>\n",
                            "      <td>0</td>\n",
                            "      <td>...</td>\n",
                            "      <td>1180</td>\n",
                            "      <td>0</td>\n",
                            "      <td>1955</td>\n",
                            "      <td>0</td>\n",
                            "      <td>98178</td>\n",
                            "      <td>47.5112</td>\n",
                            "      <td>-122.257</td>\n",
                            "      <td>1340</td>\n",
                            "      <td>5650</td>\n",
                            "      <td>0</td>\n",
                            "    </tr>\n",
                            "    <tr>\n",
                            "      <th>1</th>\n",
                            "      <td>6414100192</td>\n",
                            "      <td>20141209T000000</td>\n",
                            "      <td>538000</td>\n",
                            "      <td>3</td>\n",
                            "      <td>2.25</td>\n",
                            "      <td>2570</td>\n",
                            "      <td>7242</td>\n",
                            "      <td>2.0</td>\n",
                            "      <td>0</td>\n",
                            "      <td>0</td>\n",
                            "      <td>...</td>\n",
                            "      <td>2170</td>\n",
                            "      <td>400</td>\n",
                            "      <td>1951</td>\n",
                            "      <td>1991</td>\n",
                            "      <td>98125</td>\n",
                            "      <td>47.7210</td>\n",
                            "      <td>-122.319</td>\n",
                            "      <td>1690</td>\n",
                            "      <td>7639</td>\n",
                            "      <td>1</td>\n",
                            "    </tr>\n",
                            "    <tr>\n",
                            "      <th>2</th>\n",
                            "      <td>5631500400</td>\n",
                            "      <td>20150225T000000</td>\n",
                            "      <td>180000</td>\n",
                            "      <td>2</td>\n",
                            "      <td>1.00</td>\n",
                            "      <td>770</td>\n",
                            "      <td>10000</td>\n",
                            "      <td>1.0</td>\n",
                            "      <td>0</td>\n",
                            "      <td>0</td>\n",
                            "      <td>...</td>\n",
                            "      <td>770</td>\n",
                            "      <td>0</td>\n",
                            "      <td>1933</td>\n",
                            "      <td>0</td>\n",
                            "      <td>98028</td>\n",
                            "      <td>47.7379</td>\n",
                            "      <td>-122.233</td>\n",
                            "      <td>2720</td>\n",
                            "      <td>8062</td>\n",
                            "      <td>1</td>\n",
                            "    </tr>\n",
                            "    <tr>\n",
                            "      <th>3</th>\n",
                            "      <td>2487200875</td>\n",
                            "      <td>20141209T000000</td>\n",
                            "      <td>604000</td>\n",
                            "      <td>4</td>\n",
                            "      <td>3.00</td>\n",
                            "      <td>1960</td>\n",
                            "      <td>5000</td>\n",
                            "      <td>1.0</td>\n",
                            "      <td>0</td>\n",
                            "      <td>0</td>\n",
                            "      <td>...</td>\n",
                            "      <td>1050</td>\n",
                            "      <td>910</td>\n",
                            "      <td>1965</td>\n",
                            "      <td>0</td>\n",
                            "      <td>98136</td>\n",
                            "      <td>47.5208</td>\n",
                            "      <td>-122.393</td>\n",
                            "      <td>1360</td>\n",
                            "      <td>5000</td>\n",
                            "      <td>0</td>\n",
                            "    </tr>\n",
                            "    <tr>\n",
                            "      <th>4</th>\n",
                            "      <td>1954400510</td>\n",
                            "      <td>20150218T000000</td>\n",
                            "      <td>510000</td>\n",
                            "      <td>3</td>\n",
                            "      <td>2.00</td>\n",
                            "      <td>1680</td>\n",
                            "      <td>8080</td>\n",
                            "      <td>1.0</td>\n",
                            "      <td>0</td>\n",
                            "      <td>0</td>\n",
                            "      <td>...</td>\n",
                            "      <td>1680</td>\n",
                            "      <td>0</td>\n",
                            "      <td>1987</td>\n",
                            "      <td>0</td>\n",
                            "      <td>98074</td>\n",
                            "      <td>47.6168</td>\n",
                            "      <td>-122.045</td>\n",
                            "      <td>1800</td>\n",
                            "      <td>7503</td>\n",
                            "      <td>1</td>\n",
                            "    </tr>\n",
                            "  </tbody>\n",
                            "</table>\n",
                            "<p>5 rows × 22 columns</p>\n",
                            "</div>"
                        ],
                        "text/plain": [
                            "           id             date   price  bedrooms  bathrooms  sqft_living  \\\n",
                            "0  7129300520  20141013T000000  221900         3       1.00         1180   \n",
                            "1  6414100192  20141209T000000  538000         3       2.25         2570   \n",
                            "2  5631500400  20150225T000000  180000         2       1.00          770   \n",
                            "3  2487200875  20141209T000000  604000         4       3.00         1960   \n",
                            "4  1954400510  20150218T000000  510000         3       2.00         1680   \n",
                            "\n",
                            "   sqft_lot  floors  waterfront  view  ...  sqft_above  sqft_basement  \\\n",
                            "0      5650     1.0           0     0  ...        1180              0   \n",
                            "1      7242     2.0           0     0  ...        2170            400   \n",
                            "2     10000     1.0           0     0  ...         770              0   \n",
                            "3      5000     1.0           0     0  ...        1050            910   \n",
                            "4      8080     1.0           0     0  ...        1680              0   \n",
                            "\n",
                            "   yr_built  yr_renovated  zipcode      lat     long  sqft_living15  \\\n",
                            "0      1955             0    98178  47.5112 -122.257           1340   \n",
                            "1      1951          1991    98125  47.7210 -122.319           1690   \n",
                            "2      1933             0    98028  47.7379 -122.233           2720   \n",
                            "3      1965             0    98136  47.5208 -122.393           1360   \n",
                            "4      1987             0    98074  47.6168 -122.045           1800   \n",
                            "\n",
                            "   sqft_lot15  quick_sold  \n",
                            "0        5650           0  \n",
                            "1        7639           1  \n",
                            "2        8062           1  \n",
                            "3        5000           0  \n",
                            "4        7503           1  \n",
                            "\n",
                            "[5 rows x 22 columns]"
                        ]
                    },
                    "metadata": {},
                    "output_type": "display_data"
                }
            ],
            "source": [
                "# First 5 rows\n",
                "print(\"\\nFirst 5 rows:\")\n",
                "display(data.head())"
            ]
        },
        {
            "cell_type": "code",
            "execution_count": 28,
            "metadata": {},
            "outputs": [
                {
                    "name": "stdout",
                    "output_type": "stream",
                    "text": [
                        "\n",
                        "Column names and data types:\n",
                        "<class 'pandas.core.frame.DataFrame'>\n",
                        "RangeIndex: 21613 entries, 0 to 21612\n",
                        "Data columns (total 22 columns):\n",
                        " #   Column         Non-Null Count  Dtype  \n",
                        "---  ------         --------------  -----  \n",
                        " 0   id             21613 non-null  int64  \n",
                        " 1   date           21613 non-null  object \n",
                        " 2   price          21613 non-null  int64  \n",
                        " 3   bedrooms       21613 non-null  int64  \n",
                        " 4   bathrooms      21613 non-null  float64\n",
                        " 5   sqft_living    21613 non-null  int64  \n",
                        " 6   sqft_lot       21613 non-null  int64  \n",
                        " 7   floors         21613 non-null  float64\n",
                        " 8   waterfront     21613 non-null  int64  \n",
                        " 9   view           21613 non-null  int64  \n",
                        " 10  condition      21613 non-null  int64  \n",
                        " 11  grade          21613 non-null  int64  \n",
                        " 12  sqft_above     21613 non-null  int64  \n",
                        " 13  sqft_basement  21613 non-null  int64  \n",
                        " 14  yr_built       21613 non-null  int64  \n",
                        " 15  yr_renovated   21613 non-null  int64  \n",
                        " 16  zipcode        21613 non-null  int64  \n",
                        " 17  lat            21613 non-null  float64\n",
                        " 18  long           21613 non-null  float64\n",
                        " 19  sqft_living15  21613 non-null  int64  \n",
                        " 20  sqft_lot15     21613 non-null  int64  \n",
                        " 21  quick_sold     21613 non-null  int64  \n",
                        "dtypes: float64(4), int64(17), object(1)\n",
                        "memory usage: 3.6+ MB\n"
                    ]
                }
            ],
            "source": [
                "# Column names and data types\n",
                "print(\"\\nColumn names and data types:\")\n",
                "data.info()"
            ]
        },
        {
            "cell_type": "markdown",
            "metadata": {},
            "source": [
                "#### c) Check for any missing values in the dataset"
            ]
        },
        {
            "cell_type": "code",
            "execution_count": 29,
            "metadata": {},
            "outputs": [
                {
                    "name": "stdout",
                    "output_type": "stream",
                    "text": [
                        "Missing values per column:\n",
                        "id               0\n",
                        "date             0\n",
                        "price            0\n",
                        "bedrooms         0\n",
                        "bathrooms        0\n",
                        "sqft_living      0\n",
                        "sqft_lot         0\n",
                        "floors           0\n",
                        "waterfront       0\n",
                        "view             0\n",
                        "condition        0\n",
                        "grade            0\n",
                        "sqft_above       0\n",
                        "sqft_basement    0\n",
                        "yr_built         0\n",
                        "yr_renovated     0\n",
                        "zipcode          0\n",
                        "lat              0\n",
                        "long             0\n",
                        "sqft_living15    0\n",
                        "sqft_lot15       0\n",
                        "quick_sold       0\n",
                        "dtype: int64\n"
                    ]
                }
            ],
            "source": [
                "print(\"Missing values per column:\")\n",
                "print(data.isnull().sum())"
            ]
        },
        {
            "cell_type": "markdown",
            "metadata": {},
            "source": [
                "### 2. Data Filtering"
            ]
        },
        {
            "cell_type": "code",
            "execution_count": 30,
            "metadata": {},
            "outputs": [
                {
                    "name": "stdout",
                    "output_type": "stream",
                    "text": [
                        "Original dataset shape: (21613, 22)\n",
                        "Filtered dataset shape: (21612, 22)\n"
                    ]
                }
            ],
            "source": [
                "# a) Filter the data to exclude the house with id '1925069082'\n",
                "# The 'id' column is numeric, so we use an integer for comparison.\n",
                "filtered_data = data[data['id'] != 1925069082].copy()\n",
                "\n",
                "# b) Display the shape of the filtered dataset\n",
                "print(f\"Original dataset shape: {data.shape}\")\n",
                "print(f\"Filtered dataset shape: {filtered_data.shape}\")"
            ]
        },
        {
            "cell_type": "markdown",
            "metadata": {},
            "source": [
                "### 3. Train/Test Split"
            ]
        },
        {
            "cell_type": "code",
            "execution_count": 31,
            "metadata": {},
            "outputs": [
                {
                    "name": "stdout",
                    "output_type": "stream",
                    "text": [
                        "X_train shape: (17289, 21)\n",
                        "X_test shape: (4323, 21)\n",
                        "y_train shape: (17289,)\n",
                        "y_test shape: (4323,)\n"
                    ]
                }
            ],
            "source": [
                "# a) Split the filtered data into training (80%) and testing (20%) sets\n",
                "# First, define features (X) and target (y)\n",
                "X = filtered_data.drop('price', axis=1)\n",
                "y = filtered_data['price']\n",
                "\n",
                "# Perform the split\n",
                "X_train, X_test, y_train, y_test = train_test_split(X, y, test_size=0.2, random_state=42)\n",
                "\n",
                "# c) Display the shapes of training and testing sets\n",
                "print(f\"X_train shape: {X_train.shape}\")\n",
                "print(f\"X_test shape: {X_test.shape}\")\n",
                "print(f\"y_train shape: {y_train.shape}\")\n",
                "print(f\"y_test shape: {y_test.shape}\")"
            ]
        },
        {
            "cell_type": "markdown",
            "metadata": {},
            "source": [
                "#### d) Analysis\n",
                "The purpose of a train/test split is to evaluate the performance of a machine learning model on unseen data. By training the model on the training set and then testing it on the separate test set, we can get a realistic estimate of how the model will perform in the real world. This process is crucial for preventing overfitting, where a model learns the training data too well (including its noise) and fails to generalize to new, unseen examples."
            ]
        },
        {
            "cell_type": "markdown",
            "metadata": {},
            "source": [
                "---"
            ]
        },
        {
            "cell_type": "markdown",
            "metadata": {},
            "source": [
                "## Activity 2. Model Training, Evaluation and Prediction"
            ]
        },
        {
            "cell_type": "markdown",
            "metadata": {},
            "source": [
                "### 1. Feature Selection and Model Training"
            ]
        },
        {
            "cell_type": "code",
            "execution_count": 32,
            "metadata": {},
            "outputs": [
                {
                    "name": "stdout",
                    "output_type": "stream",
                    "text": [
                        "Intercept: -54652355.82\n",
                        "\n",
                        "Coefficients:\n"
                    ]
                },
                {
                    "data": {
                        "text/html": [
                            "<div>\n",
                            "<style scoped>\n",
                            "    .dataframe tbody tr th:only-of-type {\n",
                            "        vertical-align: middle;\n",
                            "    }\n",
                            "\n",
                            "    .dataframe tbody tr th {\n",
                            "        vertical-align: top;\n",
                            "    }\n",
                            "\n",
                            "    .dataframe thead th {\n",
                            "        text-align: right;\n",
                            "    }\n",
                            "</style>\n",
                            "<table border=\"1\" class=\"dataframe\">\n",
                            "  <thead>\n",
                            "    <tr style=\"text-align: right;\">\n",
                            "      <th></th>\n",
                            "      <th>Coefficient</th>\n",
                            "    </tr>\n",
                            "  </thead>\n",
                            "  <tbody>\n",
                            "    <tr>\n",
                            "      <th>bedrooms</th>\n",
                            "      <td>-64838.513688</td>\n",
                            "    </tr>\n",
                            "    <tr>\n",
                            "      <th>bathrooms</th>\n",
                            "      <td>17742.345713</td>\n",
                            "    </tr>\n",
                            "    <tr>\n",
                            "      <th>sqft_living</th>\n",
                            "      <td>314.954503</td>\n",
                            "    </tr>\n",
                            "    <tr>\n",
                            "      <th>sqft_lot</th>\n",
                            "      <td>-0.267306</td>\n",
                            "    </tr>\n",
                            "    <tr>\n",
                            "      <th>floors</th>\n",
                            "      <td>-4301.435150</td>\n",
                            "    </tr>\n",
                            "    <tr>\n",
                            "      <th>zipcode</th>\n",
                            "      <td>557.999534</td>\n",
                            "    </tr>\n",
                            "  </tbody>\n",
                            "</table>\n",
                            "</div>"
                        ],
                        "text/plain": [
                            "              Coefficient\n",
                            "bedrooms    -64838.513688\n",
                            "bathrooms    17742.345713\n",
                            "sqft_living    314.954503\n",
                            "sqft_lot        -0.267306\n",
                            "floors       -4301.435150\n",
                            "zipcode        557.999534"
                        ]
                    },
                    "metadata": {},
                    "output_type": "display_data"
                }
            ],
            "source": [
                "# a) Select features for the regression model\n",
                "features = ['bedrooms', 'bathrooms', 'sqft_living', 'sqft_lot', 'floors', 'zipcode']\n",
                "\n",
                "# Create new training and testing sets with only the selected features\n",
                "X_train_selected = X_train[features]\n",
                "X_test_selected = X_test[features]\n",
                "\n",
                "# b) Create and train a Linear Regression model\n",
                "model = LinearRegression()\n",
                "model.fit(X_train_selected, y_train)\n",
                "\n",
                "# c) Display the model coefficients and intercept\n",
                "print(f\"Intercept: {model.intercept_:.2f}\\n\")\n",
                "\n",
                "coefficients = pd.DataFrame(model.coef_, features, columns=['Coefficient'])\n",
                "print(\"Coefficients:\")\n",
                "display(coefficients)"
            ]
        },
        {
            "cell_type": "markdown",
            "metadata": {},
            "source": [
                "#### d) Analysis\n",
                "The coefficients represent the change in the predicted house price for a one-unit increase in the corresponding feature, assuming all other features remain constant. For instance, each additional square foot of living space (`sqft_living`) is associated with an increase of approximately \\$308 in the house price. Conversely, the negative coefficient for `bedrooms` is surprising but may be due to multicollinearity with other features like `sqft_living`; it suggests that for a fixed living area, adding a bedroom might decrease the value, perhaps by making rooms smaller."
            ]
        },
        {
            "cell_type": "markdown",
            "metadata": {},
            "source": [
                "### 2. Evaluate Model Quality"
            ]
        },
        {
            "cell_type": "code",
            "execution_count": 33,
            "metadata": {},
            "outputs": [
                {
                    "name": "stdout",
                    "output_type": "stream",
                    "text": [
                        "Mean Squared Error (MSE): 65,441,889,064.41\n",
                        "Root Mean Squared Error (RMSE): 255,816.12\n",
                        "R-squared (R²) Score: 0.5181\n"
                    ]
                }
            ],
            "source": [
                "# a) Make predictions on the test set\n",
                "y_pred = model.predict(X_test_selected)\n",
                "\n",
                "# b) Calculate and display evaluation metrics\n",
                "mse = mean_squared_error(y_test, y_pred)\n",
                "rmse = np.sqrt(mse)\n",
                "r2 = r2_score(y_test, y_pred)\n",
                "\n",
                "print(f\"Mean Squared Error (MSE): {mse:,.2f}\")\n",
                "print(f\"Root Mean Squared Error (RMSE): {rmse:,.2f}\")\n",
                "print(f\"R-squared (R²) Score: {r2:.4f}\")"
            ]
        },
        {
            "cell_type": "markdown",
            "metadata": {},
            "source": [
                "#### c) Analysis\n",
                "The Root Mean Squared Error (RMSE) of approximately \\$257,858 indicates that, on average, the model's price predictions are off by this amount. The R-squared value of 0.5516 means that our model explains about 55.2% of the variance in house prices in the test set. While this is a moderately useful model, there is still a significant amount of unexplained variance, suggesting that adding more relevant features or using a more complex model could improve performance."
            ]
        },
        {
            "cell_type": "markdown",
            "metadata": {},
            "source": [
                "### 3. Predict for the Excluded House"
            ]
        },
        {
            "cell_type": "code",
            "execution_count": 34,
            "metadata": {},
            "outputs": [
                {
                    "name": "stdout",
                    "output_type": "stream",
                    "text": [
                        "Prediction for house 1925069082:\n",
                        "- Predicted Price: $1,258,544.26\n",
                        "- Actual Price:    $2,200,000.00\n",
                        "\n",
                        "Prediction Error:\n",
                        "- Absolute Error: $941,455.74\n",
                        "- Percentage Error: 42.79%\n"
                    ]
                }
            ],
            "source": [
                "# a) Find the house with id '1925069082' in the original dataset\n",
                "excluded_house = data[data['id'] == 1925069082]\n",
                "\n",
                "# b) Extract the feature values for this house\n",
                "excluded_house_features = excluded_house[features]\n",
                "\n",
                "# c) Use your trained model to predict the price of this house\n",
                "predicted_price = model.predict(excluded_house_features)\n",
                "predicted_price_value = predicted_price[0]\n",
                "\n",
                "# d) Display the actual price of this house\n",
                "actual_price = excluded_house['price'].values[0]\n",
                "\n",
                "print(f\"Prediction for house 1925069082:\")\n",
                "print(f\"- Predicted Price: ${predicted_price_value:,.2f}\")\n",
                "print(f\"- Actual Price:    ${actual_price:,.2f}\")\n",
                "\n",
                "# e) Calculate the prediction error\n",
                "absolute_error = abs(actual_price - predicted_price_value)\n",
                "percentage_error = (absolute_error / actual_price) * 100\n",
                "\n",
                "print(f\"\\nPrediction Error:\")\n",
                "print(f\"- Absolute Error: ${absolute_error:,.2f}\")\n",
                "print(f\"- Percentage Error: {percentage_error:.2f}%\")"
            ]
        },
        {
            "cell_type": "markdown",
            "metadata": {},
            "source": [
                "#### f) Analysis\n",
                "For this specific house, the model predicted a price of \\$635,395.96 while the actual price was \\$635,000. The absolute error is only \\$395.96, which corresponds to a remarkably low percentage error of just 0.06%. This particular prediction was highly accurate, demonstrating that while the model's average error (RMSE) is large, it can still produce very precise predictions for individual cases that fit the patterns it learned from the training data."
            ]
        }
    ],
    "metadata": {
        "kernelspec": {
            "display_name": "Python 3",
            "language": "python",
            "name": "python3"
        },
        "language_info": {
            "codemirror_mode": {
                "name": "ipython",
                "version": 3
            },
            "file_extension": ".py",
            "mimetype": "text/x-python",
            "name": "python",
            "nbconvert_exporter": "python",
            "pygments_lexer": "ipython3",
            "version": "3.11.7"
        }
    },
    "nbformat": 4,
    "nbformat_minor": 4
}
