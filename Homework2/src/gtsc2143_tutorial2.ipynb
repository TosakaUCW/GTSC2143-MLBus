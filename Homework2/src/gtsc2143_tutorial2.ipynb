{
 "cells": [
  {
   "cell_type": "markdown",
   "id": "0c3ec75e",
   "metadata": {},
   "source": [
    "# GTSC2143 Machine Learning for Business - Tutorial 2"
   ]
  },
  {
   "cell_type": "markdown",
   "id": "f52f451d",
   "metadata": {},
   "source": [
    "## Activity 1: Pandas Series Operations"
   ]
  },
  {
   "cell_type": "code",
   "execution_count": 1,
   "id": "b018a56b",
   "metadata": {},
   "outputs": [
    {
     "data": {
      "text/plain": [
       "Mon    22\n",
       "Tue    25\n",
       "Wed    19\n",
       "Thu    21\n",
       "Fri    24\n",
       "dtype: int64"
      ]
     },
     "execution_count": 1,
     "metadata": {},
     "output_type": "execute_result"
    }
   ],
   "source": [
    "import pandas as pd\n",
    "\n",
    "# Create a Series with daily temperatures\n",
    "temps = pd.Series([22, 25, 19, 21, 24], index=[\"Mon\", \"Tue\", \"Wed\", \"Thu\", \"Fri\"])\n",
    "temps\n"
   ]
  },
  {
   "cell_type": "code",
   "execution_count": 3,
   "id": "534f3553",
   "metadata": {},
   "outputs": [
    {
     "name": "stdout",
     "output_type": "stream",
     "text": [
      "Wednesday: 19\n"
     ]
    },
    {
     "data": {
      "text/plain": [
       "Mon    22\n",
       "Tue    25\n",
       "Wed    19\n",
       "dtype: int64"
      ]
     },
     "execution_count": 3,
     "metadata": {},
     "output_type": "execute_result"
    }
   ],
   "source": [
    "# Access Wednesday's temperature and first 3 days\n",
    "print(\"Wednesday:\", temps.loc[\"Wed\"])\n",
    "temps.iloc[:3]\n"
   ]
  },
  {
   "cell_type": "code",
   "execution_count": 4,
   "id": "3804079f",
   "metadata": {},
   "outputs": [
    {
     "data": {
      "text/plain": [
       "Tue    25\n",
       "Fri    24\n",
       "dtype: int64"
      ]
     },
     "execution_count": 4,
     "metadata": {},
     "output_type": "execute_result"
    }
   ],
   "source": [
    "# Find days with temperature above 22 degrees\n",
    "temps[temps > 22]\n"
   ]
  },
  {
   "cell_type": "code",
   "execution_count": 5,
   "id": "f64d6f5d",
   "metadata": {},
   "outputs": [
    {
     "data": {
      "text/plain": [
       "Mon    71.6\n",
       "Tue    77.0\n",
       "Wed    66.2\n",
       "Thu    69.8\n",
       "Fri    75.2\n",
       "dtype: float64"
      ]
     },
     "execution_count": 5,
     "metadata": {},
     "output_type": "execute_result"
    }
   ],
   "source": [
    "# Convert to Fahrenheit\n",
    "temps_f = temps * 9/5 + 32\n",
    "temps_f\n"
   ]
  },
  {
   "cell_type": "code",
   "execution_count": 6,
   "id": "4185e193",
   "metadata": {},
   "outputs": [
    {
     "name": "stdout",
     "output_type": "stream",
     "text": [
      "Mean: 22.2\n",
      "Hottest day: Tue with 25 °C\n"
     ]
    }
   ],
   "source": [
    "# Mean temperature and hottest day\n",
    "print(\"Mean:\", temps.mean())\n",
    "print(\"Hottest day:\", temps.idxmax(), \"with\", temps.max(), \"°C\")\n"
   ]
  },
  {
   "cell_type": "markdown",
   "id": "eb38864b",
   "metadata": {},
   "source": [
    "## Activity 2: Pandas DataFrame"
   ]
  },
  {
   "cell_type": "code",
   "execution_count": 7,
   "id": "2e64a7ef",
   "metadata": {},
   "outputs": [
    {
     "data": {
      "text/html": [
       "<div>\n",
       "<style scoped>\n",
       "    .dataframe tbody tr th:only-of-type {\n",
       "        vertical-align: middle;\n",
       "    }\n",
       "\n",
       "    .dataframe tbody tr th {\n",
       "        vertical-align: top;\n",
       "    }\n",
       "\n",
       "    .dataframe thead th {\n",
       "        text-align: right;\n",
       "    }\n",
       "</style>\n",
       "<table border=\"1\" class=\"dataframe\">\n",
       "  <thead>\n",
       "    <tr style=\"text-align: right;\">\n",
       "      <th></th>\n",
       "      <th>StudentID</th>\n",
       "      <th>Name</th>\n",
       "      <th>Age</th>\n",
       "      <th>Major</th>\n",
       "      <th>Math_Score</th>\n",
       "      <th>English_Score</th>\n",
       "    </tr>\n",
       "  </thead>\n",
       "  <tbody>\n",
       "    <tr>\n",
       "      <th>0</th>\n",
       "      <td>2001</td>\n",
       "      <td>Alice Wong</td>\n",
       "      <td>20</td>\n",
       "      <td>Computer Science</td>\n",
       "      <td>85</td>\n",
       "      <td>78</td>\n",
       "    </tr>\n",
       "    <tr>\n",
       "      <th>1</th>\n",
       "      <td>2002</td>\n",
       "      <td>Bob Chen</td>\n",
       "      <td>21</td>\n",
       "      <td>Mathematics</td>\n",
       "      <td>92</td>\n",
       "      <td>85</td>\n",
       "    </tr>\n",
       "    <tr>\n",
       "      <th>2</th>\n",
       "      <td>2003</td>\n",
       "      <td>Carol Lee</td>\n",
       "      <td>19</td>\n",
       "      <td>Physics</td>\n",
       "      <td>78</td>\n",
       "      <td>92</td>\n",
       "    </tr>\n",
       "    <tr>\n",
       "      <th>3</th>\n",
       "      <td>2004</td>\n",
       "      <td>David Kim</td>\n",
       "      <td>22</td>\n",
       "      <td>Computer Science</td>\n",
       "      <td>96</td>\n",
       "      <td>82</td>\n",
       "    </tr>\n",
       "    <tr>\n",
       "      <th>4</th>\n",
       "      <td>2005</td>\n",
       "      <td>Emma Liu</td>\n",
       "      <td>20</td>\n",
       "      <td>Mathematics</td>\n",
       "      <td>88</td>\n",
       "      <td>91</td>\n",
       "    </tr>\n",
       "    <tr>\n",
       "      <th>5</th>\n",
       "      <td>2006</td>\n",
       "      <td>Frank Tan</td>\n",
       "      <td>21</td>\n",
       "      <td>Physics</td>\n",
       "      <td>91</td>\n",
       "      <td>86</td>\n",
       "    </tr>\n",
       "  </tbody>\n",
       "</table>\n",
       "</div>"
      ],
      "text/plain": [
       "   StudentID        Name  Age             Major  Math_Score  English_Score\n",
       "0       2001  Alice Wong   20  Computer Science          85             78\n",
       "1       2002    Bob Chen   21       Mathematics          92             85\n",
       "2       2003   Carol Lee   19           Physics          78             92\n",
       "3       2004   David Kim   22  Computer Science          96             82\n",
       "4       2005    Emma Liu   20       Mathematics          88             91\n",
       "5       2006   Frank Tan   21           Physics          91             86"
      ]
     },
     "execution_count": 7,
     "metadata": {},
     "output_type": "execute_result"
    }
   ],
   "source": [
    "student_data = {\n",
    "    'StudentID': [2001, 2002, 2003, 2004, 2005, 2006],\n",
    "    'Name': ['Alice Wong', 'Bob Chen', 'Carol Lee', 'David Kim', 'Emma Liu', 'Frank Tan'],\n",
    "    'Age': [20, 21, 19, 22, 20, 21],\n",
    "    'Major': ['Computer Science', 'Mathematics', 'Physics', 'Computer Science', 'Mathematics', 'Physics'],\n",
    "    'Math_Score': [85, 92, 78, 96, 88, 91],\n",
    "    'English_Score': [78, 85, 92, 82, 91, 86]\n",
    "}\n",
    "df_students = pd.DataFrame(student_data)\n",
    "df_students\n"
   ]
  },
  {
   "cell_type": "code",
   "execution_count": 8,
   "id": "3861006c",
   "metadata": {},
   "outputs": [
    {
     "data": {
      "text/plain": [
       "((6, 6),\n",
       "    StudentID        Name  Age             Major  Math_Score  English_Score\n",
       " 0       2001  Alice Wong   20  Computer Science          85             78\n",
       " 1       2002    Bob Chen   21       Mathematics          92             85\n",
       " 2       2003   Carol Lee   19           Physics          78             92)"
      ]
     },
     "execution_count": 8,
     "metadata": {},
     "output_type": "execute_result"
    }
   ],
   "source": [
    "df_students.shape, df_students.head(3)"
   ]
  },
  {
   "cell_type": "code",
   "execution_count": 9,
   "id": "fa1f676d",
   "metadata": {},
   "outputs": [
    {
     "data": {
      "text/html": [
       "<div>\n",
       "<style scoped>\n",
       "    .dataframe tbody tr th:only-of-type {\n",
       "        vertical-align: middle;\n",
       "    }\n",
       "\n",
       "    .dataframe tbody tr th {\n",
       "        vertical-align: top;\n",
       "    }\n",
       "\n",
       "    .dataframe thead th {\n",
       "        text-align: right;\n",
       "    }\n",
       "</style>\n",
       "<table border=\"1\" class=\"dataframe\">\n",
       "  <thead>\n",
       "    <tr style=\"text-align: right;\">\n",
       "      <th></th>\n",
       "      <th>Math_Score</th>\n",
       "      <th>English_Score</th>\n",
       "    </tr>\n",
       "  </thead>\n",
       "  <tbody>\n",
       "    <tr>\n",
       "      <th>count</th>\n",
       "      <td>6.000000</td>\n",
       "      <td>6.000000</td>\n",
       "    </tr>\n",
       "    <tr>\n",
       "      <th>mean</th>\n",
       "      <td>88.333333</td>\n",
       "      <td>85.666667</td>\n",
       "    </tr>\n",
       "    <tr>\n",
       "      <th>std</th>\n",
       "      <td>6.282250</td>\n",
       "      <td>5.316641</td>\n",
       "    </tr>\n",
       "    <tr>\n",
       "      <th>min</th>\n",
       "      <td>78.000000</td>\n",
       "      <td>78.000000</td>\n",
       "    </tr>\n",
       "    <tr>\n",
       "      <th>25%</th>\n",
       "      <td>85.750000</td>\n",
       "      <td>82.750000</td>\n",
       "    </tr>\n",
       "    <tr>\n",
       "      <th>50%</th>\n",
       "      <td>89.500000</td>\n",
       "      <td>85.500000</td>\n",
       "    </tr>\n",
       "    <tr>\n",
       "      <th>75%</th>\n",
       "      <td>91.750000</td>\n",
       "      <td>89.750000</td>\n",
       "    </tr>\n",
       "    <tr>\n",
       "      <th>max</th>\n",
       "      <td>96.000000</td>\n",
       "      <td>92.000000</td>\n",
       "    </tr>\n",
       "  </tbody>\n",
       "</table>\n",
       "</div>"
      ],
      "text/plain": [
       "       Math_Score  English_Score\n",
       "count    6.000000       6.000000\n",
       "mean    88.333333      85.666667\n",
       "std      6.282250       5.316641\n",
       "min     78.000000      78.000000\n",
       "25%     85.750000      82.750000\n",
       "50%     89.500000      85.500000\n",
       "75%     91.750000      89.750000\n",
       "max     96.000000      92.000000"
      ]
     },
     "execution_count": 9,
     "metadata": {},
     "output_type": "execute_result"
    }
   ],
   "source": [
    "df_students[['Math_Score','English_Score']].describe()"
   ]
  },
  {
   "cell_type": "code",
   "execution_count": 10,
   "id": "cf94373d",
   "metadata": {},
   "outputs": [
    {
     "data": {
      "text/plain": [
       "StudentID         int64\n",
       "Name             object\n",
       "Age               int64\n",
       "Major            object\n",
       "Math_Score        int64\n",
       "English_Score     int64\n",
       "dtype: object"
      ]
     },
     "execution_count": 10,
     "metadata": {},
     "output_type": "execute_result"
    }
   ],
   "source": [
    "df_students.dtypes"
   ]
  },
  {
   "cell_type": "markdown",
   "id": "cc36d257",
   "metadata": {},
   "source": [
    "## Activity 3: DataFrame Operations"
   ]
  },
  {
   "cell_type": "code",
   "execution_count": 11,
   "id": "f3f920af",
   "metadata": {},
   "outputs": [
    {
     "data": {
      "text/html": [
       "<div>\n",
       "<style scoped>\n",
       "    .dataframe tbody tr th:only-of-type {\n",
       "        vertical-align: middle;\n",
       "    }\n",
       "\n",
       "    .dataframe tbody tr th {\n",
       "        vertical-align: top;\n",
       "    }\n",
       "\n",
       "    .dataframe thead th {\n",
       "        text-align: right;\n",
       "    }\n",
       "</style>\n",
       "<table border=\"1\" class=\"dataframe\">\n",
       "  <thead>\n",
       "    <tr style=\"text-align: right;\">\n",
       "      <th></th>\n",
       "      <th>Name</th>\n",
       "      <th>Math_Score</th>\n",
       "    </tr>\n",
       "  </thead>\n",
       "  <tbody>\n",
       "    <tr>\n",
       "      <th>0</th>\n",
       "      <td>Alice Wong</td>\n",
       "      <td>85</td>\n",
       "    </tr>\n",
       "    <tr>\n",
       "      <th>1</th>\n",
       "      <td>Bob Chen</td>\n",
       "      <td>92</td>\n",
       "    </tr>\n",
       "    <tr>\n",
       "      <th>2</th>\n",
       "      <td>Carol Lee</td>\n",
       "      <td>78</td>\n",
       "    </tr>\n",
       "    <tr>\n",
       "      <th>3</th>\n",
       "      <td>David Kim</td>\n",
       "      <td>96</td>\n",
       "    </tr>\n",
       "    <tr>\n",
       "      <th>4</th>\n",
       "      <td>Emma Liu</td>\n",
       "      <td>88</td>\n",
       "    </tr>\n",
       "    <tr>\n",
       "      <th>5</th>\n",
       "      <td>Frank Tan</td>\n",
       "      <td>91</td>\n",
       "    </tr>\n",
       "  </tbody>\n",
       "</table>\n",
       "</div>"
      ],
      "text/plain": [
       "         Name  Math_Score\n",
       "0  Alice Wong          85\n",
       "1    Bob Chen          92\n",
       "2   Carol Lee          78\n",
       "3   David Kim          96\n",
       "4    Emma Liu          88\n",
       "5   Frank Tan          91"
      ]
     },
     "execution_count": 11,
     "metadata": {},
     "output_type": "execute_result"
    }
   ],
   "source": [
    "df_students[['Name', 'Math_Score']]"
   ]
  },
  {
   "cell_type": "code",
   "execution_count": 12,
   "id": "f30239d1",
   "metadata": {},
   "outputs": [
    {
     "data": {
      "text/html": [
       "<div>\n",
       "<style scoped>\n",
       "    .dataframe tbody tr th:only-of-type {\n",
       "        vertical-align: middle;\n",
       "    }\n",
       "\n",
       "    .dataframe tbody tr th {\n",
       "        vertical-align: top;\n",
       "    }\n",
       "\n",
       "    .dataframe thead th {\n",
       "        text-align: right;\n",
       "    }\n",
       "</style>\n",
       "<table border=\"1\" class=\"dataframe\">\n",
       "  <thead>\n",
       "    <tr style=\"text-align: right;\">\n",
       "      <th></th>\n",
       "      <th>StudentID</th>\n",
       "      <th>Name</th>\n",
       "      <th>Age</th>\n",
       "      <th>Major</th>\n",
       "      <th>Math_Score</th>\n",
       "      <th>English_Score</th>\n",
       "    </tr>\n",
       "  </thead>\n",
       "  <tbody>\n",
       "    <tr>\n",
       "      <th>1</th>\n",
       "      <td>2002</td>\n",
       "      <td>Bob Chen</td>\n",
       "      <td>21</td>\n",
       "      <td>Mathematics</td>\n",
       "      <td>92</td>\n",
       "      <td>85</td>\n",
       "    </tr>\n",
       "    <tr>\n",
       "      <th>3</th>\n",
       "      <td>2004</td>\n",
       "      <td>David Kim</td>\n",
       "      <td>22</td>\n",
       "      <td>Computer Science</td>\n",
       "      <td>96</td>\n",
       "      <td>82</td>\n",
       "    </tr>\n",
       "    <tr>\n",
       "      <th>4</th>\n",
       "      <td>2005</td>\n",
       "      <td>Emma Liu</td>\n",
       "      <td>20</td>\n",
       "      <td>Mathematics</td>\n",
       "      <td>88</td>\n",
       "      <td>91</td>\n",
       "    </tr>\n",
       "    <tr>\n",
       "      <th>5</th>\n",
       "      <td>2006</td>\n",
       "      <td>Frank Tan</td>\n",
       "      <td>21</td>\n",
       "      <td>Physics</td>\n",
       "      <td>91</td>\n",
       "      <td>86</td>\n",
       "    </tr>\n",
       "  </tbody>\n",
       "</table>\n",
       "</div>"
      ],
      "text/plain": [
       "   StudentID       Name  Age             Major  Math_Score  English_Score\n",
       "1       2002   Bob Chen   21       Mathematics          92             85\n",
       "3       2004  David Kim   22  Computer Science          96             82\n",
       "4       2005   Emma Liu   20       Mathematics          88             91\n",
       "5       2006  Frank Tan   21           Physics          91             86"
      ]
     },
     "execution_count": 12,
     "metadata": {},
     "output_type": "execute_result"
    }
   ],
   "source": [
    "df_students[df_students['Math_Score'] > 85]"
   ]
  },
  {
   "cell_type": "code",
   "execution_count": 13,
   "id": "4555d1d0",
   "metadata": {},
   "outputs": [
    {
     "data": {
      "text/html": [
       "<div>\n",
       "<style scoped>\n",
       "    .dataframe tbody tr th:only-of-type {\n",
       "        vertical-align: middle;\n",
       "    }\n",
       "\n",
       "    .dataframe tbody tr th {\n",
       "        vertical-align: top;\n",
       "    }\n",
       "\n",
       "    .dataframe thead th {\n",
       "        text-align: right;\n",
       "    }\n",
       "</style>\n",
       "<table border=\"1\" class=\"dataframe\">\n",
       "  <thead>\n",
       "    <tr style=\"text-align: right;\">\n",
       "      <th></th>\n",
       "      <th>StudentID</th>\n",
       "      <th>Name</th>\n",
       "      <th>Age</th>\n",
       "      <th>Major</th>\n",
       "      <th>Math_Score</th>\n",
       "      <th>English_Score</th>\n",
       "    </tr>\n",
       "  </thead>\n",
       "  <tbody>\n",
       "    <tr>\n",
       "      <th>0</th>\n",
       "      <td>2001</td>\n",
       "      <td>Alice Wong</td>\n",
       "      <td>20</td>\n",
       "      <td>Computer Science</td>\n",
       "      <td>85</td>\n",
       "      <td>78</td>\n",
       "    </tr>\n",
       "    <tr>\n",
       "      <th>3</th>\n",
       "      <td>2004</td>\n",
       "      <td>David Kim</td>\n",
       "      <td>22</td>\n",
       "      <td>Computer Science</td>\n",
       "      <td>96</td>\n",
       "      <td>82</td>\n",
       "    </tr>\n",
       "  </tbody>\n",
       "</table>\n",
       "</div>"
      ],
      "text/plain": [
       "   StudentID        Name  Age             Major  Math_Score  English_Score\n",
       "0       2001  Alice Wong   20  Computer Science          85             78\n",
       "3       2004   David Kim   22  Computer Science          96             82"
      ]
     },
     "execution_count": 13,
     "metadata": {},
     "output_type": "execute_result"
    }
   ],
   "source": [
    "df_students[df_students['Major'] == 'Computer Science']"
   ]
  },
  {
   "cell_type": "code",
   "execution_count": 14,
   "id": "d0668d09",
   "metadata": {},
   "outputs": [
    {
     "data": {
      "text/html": [
       "<div>\n",
       "<style scoped>\n",
       "    .dataframe tbody tr th:only-of-type {\n",
       "        vertical-align: middle;\n",
       "    }\n",
       "\n",
       "    .dataframe tbody tr th {\n",
       "        vertical-align: top;\n",
       "    }\n",
       "\n",
       "    .dataframe thead th {\n",
       "        text-align: right;\n",
       "    }\n",
       "</style>\n",
       "<table border=\"1\" class=\"dataframe\">\n",
       "  <thead>\n",
       "    <tr style=\"text-align: right;\">\n",
       "      <th></th>\n",
       "      <th>StudentID</th>\n",
       "      <th>Name</th>\n",
       "      <th>Age</th>\n",
       "      <th>Major</th>\n",
       "      <th>Math_Score</th>\n",
       "      <th>English_Score</th>\n",
       "    </tr>\n",
       "  </thead>\n",
       "  <tbody>\n",
       "    <tr>\n",
       "      <th>2</th>\n",
       "      <td>2003</td>\n",
       "      <td>Carol Lee</td>\n",
       "      <td>19</td>\n",
       "      <td>Physics</td>\n",
       "      <td>78</td>\n",
       "      <td>92</td>\n",
       "    </tr>\n",
       "    <tr>\n",
       "      <th>4</th>\n",
       "      <td>2005</td>\n",
       "      <td>Emma Liu</td>\n",
       "      <td>20</td>\n",
       "      <td>Mathematics</td>\n",
       "      <td>88</td>\n",
       "      <td>91</td>\n",
       "    </tr>\n",
       "  </tbody>\n",
       "</table>\n",
       "</div>"
      ],
      "text/plain": [
       "   StudentID       Name  Age        Major  Math_Score  English_Score\n",
       "2       2003  Carol Lee   19      Physics          78             92\n",
       "4       2005   Emma Liu   20  Mathematics          88             91"
      ]
     },
     "execution_count": 14,
     "metadata": {},
     "output_type": "execute_result"
    }
   ],
   "source": [
    "df_students[df_students['English_Score'] > df_students['Math_Score']]"
   ]
  },
  {
   "cell_type": "code",
   "execution_count": 15,
   "id": "7dbc6d84",
   "metadata": {},
   "outputs": [
    {
     "data": {
      "text/html": [
       "<div>\n",
       "<style scoped>\n",
       "    .dataframe tbody tr th:only-of-type {\n",
       "        vertical-align: middle;\n",
       "    }\n",
       "\n",
       "    .dataframe tbody tr th {\n",
       "        vertical-align: top;\n",
       "    }\n",
       "\n",
       "    .dataframe thead th {\n",
       "        text-align: right;\n",
       "    }\n",
       "</style>\n",
       "<table border=\"1\" class=\"dataframe\">\n",
       "  <thead>\n",
       "    <tr style=\"text-align: right;\">\n",
       "      <th></th>\n",
       "      <th>StudentID</th>\n",
       "      <th>Name</th>\n",
       "      <th>Age</th>\n",
       "      <th>Major</th>\n",
       "      <th>Math_Score</th>\n",
       "      <th>English_Score</th>\n",
       "      <th>Total_Score</th>\n",
       "      <th>Grade_Level</th>\n",
       "    </tr>\n",
       "  </thead>\n",
       "  <tbody>\n",
       "    <tr>\n",
       "      <th>4</th>\n",
       "      <td>2005</td>\n",
       "      <td>Emma Liu</td>\n",
       "      <td>20</td>\n",
       "      <td>Mathematics</td>\n",
       "      <td>88</td>\n",
       "      <td>91</td>\n",
       "      <td>179</td>\n",
       "      <td>High</td>\n",
       "    </tr>\n",
       "    <tr>\n",
       "      <th>3</th>\n",
       "      <td>2004</td>\n",
       "      <td>David Kim</td>\n",
       "      <td>22</td>\n",
       "      <td>Computer Science</td>\n",
       "      <td>96</td>\n",
       "      <td>82</td>\n",
       "      <td>178</td>\n",
       "      <td>High</td>\n",
       "    </tr>\n",
       "    <tr>\n",
       "      <th>1</th>\n",
       "      <td>2002</td>\n",
       "      <td>Bob Chen</td>\n",
       "      <td>21</td>\n",
       "      <td>Mathematics</td>\n",
       "      <td>92</td>\n",
       "      <td>85</td>\n",
       "      <td>177</td>\n",
       "      <td>High</td>\n",
       "    </tr>\n",
       "    <tr>\n",
       "      <th>5</th>\n",
       "      <td>2006</td>\n",
       "      <td>Frank Tan</td>\n",
       "      <td>21</td>\n",
       "      <td>Physics</td>\n",
       "      <td>91</td>\n",
       "      <td>86</td>\n",
       "      <td>177</td>\n",
       "      <td>High</td>\n",
       "    </tr>\n",
       "    <tr>\n",
       "      <th>2</th>\n",
       "      <td>2003</td>\n",
       "      <td>Carol Lee</td>\n",
       "      <td>19</td>\n",
       "      <td>Physics</td>\n",
       "      <td>78</td>\n",
       "      <td>92</td>\n",
       "      <td>170</td>\n",
       "      <td>High</td>\n",
       "    </tr>\n",
       "    <tr>\n",
       "      <th>0</th>\n",
       "      <td>2001</td>\n",
       "      <td>Alice Wong</td>\n",
       "      <td>20</td>\n",
       "      <td>Computer Science</td>\n",
       "      <td>85</td>\n",
       "      <td>78</td>\n",
       "      <td>163</td>\n",
       "      <td>Medium</td>\n",
       "    </tr>\n",
       "  </tbody>\n",
       "</table>\n",
       "</div>"
      ],
      "text/plain": [
       "   StudentID        Name  Age             Major  Math_Score  English_Score  \\\n",
       "4       2005    Emma Liu   20       Mathematics          88             91   \n",
       "3       2004   David Kim   22  Computer Science          96             82   \n",
       "1       2002    Bob Chen   21       Mathematics          92             85   \n",
       "5       2006   Frank Tan   21           Physics          91             86   \n",
       "2       2003   Carol Lee   19           Physics          78             92   \n",
       "0       2001  Alice Wong   20  Computer Science          85             78   \n",
       "\n",
       "   Total_Score Grade_Level  \n",
       "4          179        High  \n",
       "3          178        High  \n",
       "1          177        High  \n",
       "5          177        High  \n",
       "2          170        High  \n",
       "0          163      Medium  "
      ]
     },
     "execution_count": 15,
     "metadata": {},
     "output_type": "execute_result"
    }
   ],
   "source": [
    "df_students['Total_Score'] = df_students['Math_Score'] + df_students['English_Score']\n",
    "def grade_bucket(total):\n",
    "    if total >= 170:\n",
    "        return \"High\"\n",
    "    elif 150 <= total <= 169:\n",
    "        return \"Medium\"\n",
    "    else:\n",
    "        return \"Low\"\n",
    "df_students['Grade_Level'] = df_students['Total_Score'].apply(grade_bucket)\n",
    "df_students.sort_values(by='Total_Score', ascending=False)\n"
   ]
  },
  {
   "cell_type": "code",
   "execution_count": 16,
   "id": "bc91492f",
   "metadata": {},
   "outputs": [
    {
     "data": {
      "text/plain": [
       "Major\n",
       "Computer Science    90.5\n",
       "Mathematics         90.0\n",
       "Physics             84.5\n",
       "Name: Math_Score, dtype: float64"
      ]
     },
     "execution_count": 16,
     "metadata": {},
     "output_type": "execute_result"
    }
   ],
   "source": [
    "df_students.groupby('Major')['Math_Score'].mean()"
   ]
  },
  {
   "cell_type": "code",
   "execution_count": 17,
   "id": "e1b92ebc",
   "metadata": {},
   "outputs": [
    {
     "data": {
      "text/plain": [
       "Grade_Level\n",
       "High      5\n",
       "Medium    1\n",
       "dtype: int64"
      ]
     },
     "execution_count": 17,
     "metadata": {},
     "output_type": "execute_result"
    }
   ],
   "source": [
    "df_students.groupby('Grade_Level').size()"
   ]
  },
  {
   "cell_type": "markdown",
   "id": "5db563e2",
   "metadata": {},
   "source": [
    "## Activity 4: Data Merging"
   ]
  },
  {
   "cell_type": "code",
   "execution_count": 18,
   "id": "6b761ee4",
   "metadata": {},
   "outputs": [
    {
     "data": {
      "text/html": [
       "<div>\n",
       "<style scoped>\n",
       "    .dataframe tbody tr th:only-of-type {\n",
       "        vertical-align: middle;\n",
       "    }\n",
       "\n",
       "    .dataframe tbody tr th {\n",
       "        vertical-align: top;\n",
       "    }\n",
       "\n",
       "    .dataframe thead th {\n",
       "        text-align: right;\n",
       "    }\n",
       "</style>\n",
       "<table border=\"1\" class=\"dataframe\">\n",
       "  <thead>\n",
       "    <tr style=\"text-align: right;\">\n",
       "      <th></th>\n",
       "      <th>StudentID</th>\n",
       "      <th>Course</th>\n",
       "      <th>Credits</th>\n",
       "    </tr>\n",
       "  </thead>\n",
       "  <tbody>\n",
       "    <tr>\n",
       "      <th>0</th>\n",
       "      <td>2001</td>\n",
       "      <td>Python</td>\n",
       "      <td>3</td>\n",
       "    </tr>\n",
       "    <tr>\n",
       "      <th>1</th>\n",
       "      <td>2002</td>\n",
       "      <td>Statistics</td>\n",
       "      <td>4</td>\n",
       "    </tr>\n",
       "    <tr>\n",
       "      <th>2</th>\n",
       "      <td>2003</td>\n",
       "      <td>Physics</td>\n",
       "      <td>3</td>\n",
       "    </tr>\n",
       "    <tr>\n",
       "      <th>3</th>\n",
       "      <td>2004</td>\n",
       "      <td>ML</td>\n",
       "      <td>4</td>\n",
       "    </tr>\n",
       "    <tr>\n",
       "      <th>4</th>\n",
       "      <td>2005</td>\n",
       "      <td>Calculus</td>\n",
       "      <td>4</td>\n",
       "    </tr>\n",
       "    <tr>\n",
       "      <th>5</th>\n",
       "      <td>2008</td>\n",
       "      <td>Chemistry</td>\n",
       "      <td>3</td>\n",
       "    </tr>\n",
       "  </tbody>\n",
       "</table>\n",
       "</div>"
      ],
      "text/plain": [
       "   StudentID      Course  Credits\n",
       "0       2001      Python        3\n",
       "1       2002  Statistics        4\n",
       "2       2003     Physics        3\n",
       "3       2004          ML        4\n",
       "4       2005    Calculus        4\n",
       "5       2008   Chemistry        3"
      ]
     },
     "execution_count": 18,
     "metadata": {},
     "output_type": "execute_result"
    }
   ],
   "source": [
    "course_data = {\n",
    "    'StudentID': [2001, 2002, 2003, 2004, 2005, 2008],\n",
    "    'Course': ['Python', 'Statistics', 'Physics', 'ML', 'Calculus', 'Chemistry'],\n",
    "    'Credits': [3, 4, 3, 4, 4, 3]\n",
    "}\n",
    "df_courses = pd.DataFrame(course_data)\n",
    "df_courses\n"
   ]
  },
  {
   "cell_type": "code",
   "execution_count": 19,
   "id": "6a5b03b5",
   "metadata": {},
   "outputs": [
    {
     "data": {
      "text/html": [
       "<div>\n",
       "<style scoped>\n",
       "    .dataframe tbody tr th:only-of-type {\n",
       "        vertical-align: middle;\n",
       "    }\n",
       "\n",
       "    .dataframe tbody tr th {\n",
       "        vertical-align: top;\n",
       "    }\n",
       "\n",
       "    .dataframe thead th {\n",
       "        text-align: right;\n",
       "    }\n",
       "</style>\n",
       "<table border=\"1\" class=\"dataframe\">\n",
       "  <thead>\n",
       "    <tr style=\"text-align: right;\">\n",
       "      <th></th>\n",
       "      <th>StudentID</th>\n",
       "      <th>Name</th>\n",
       "      <th>Age</th>\n",
       "      <th>Major</th>\n",
       "      <th>Math_Score</th>\n",
       "      <th>English_Score</th>\n",
       "      <th>Total_Score</th>\n",
       "      <th>Grade_Level</th>\n",
       "      <th>Course</th>\n",
       "      <th>Credits</th>\n",
       "    </tr>\n",
       "  </thead>\n",
       "  <tbody>\n",
       "    <tr>\n",
       "      <th>0</th>\n",
       "      <td>2001</td>\n",
       "      <td>Alice Wong</td>\n",
       "      <td>20</td>\n",
       "      <td>Computer Science</td>\n",
       "      <td>85</td>\n",
       "      <td>78</td>\n",
       "      <td>163</td>\n",
       "      <td>Medium</td>\n",
       "      <td>Python</td>\n",
       "      <td>3</td>\n",
       "    </tr>\n",
       "    <tr>\n",
       "      <th>1</th>\n",
       "      <td>2002</td>\n",
       "      <td>Bob Chen</td>\n",
       "      <td>21</td>\n",
       "      <td>Mathematics</td>\n",
       "      <td>92</td>\n",
       "      <td>85</td>\n",
       "      <td>177</td>\n",
       "      <td>High</td>\n",
       "      <td>Statistics</td>\n",
       "      <td>4</td>\n",
       "    </tr>\n",
       "    <tr>\n",
       "      <th>2</th>\n",
       "      <td>2003</td>\n",
       "      <td>Carol Lee</td>\n",
       "      <td>19</td>\n",
       "      <td>Physics</td>\n",
       "      <td>78</td>\n",
       "      <td>92</td>\n",
       "      <td>170</td>\n",
       "      <td>High</td>\n",
       "      <td>Physics</td>\n",
       "      <td>3</td>\n",
       "    </tr>\n",
       "    <tr>\n",
       "      <th>3</th>\n",
       "      <td>2004</td>\n",
       "      <td>David Kim</td>\n",
       "      <td>22</td>\n",
       "      <td>Computer Science</td>\n",
       "      <td>96</td>\n",
       "      <td>82</td>\n",
       "      <td>178</td>\n",
       "      <td>High</td>\n",
       "      <td>ML</td>\n",
       "      <td>4</td>\n",
       "    </tr>\n",
       "    <tr>\n",
       "      <th>4</th>\n",
       "      <td>2005</td>\n",
       "      <td>Emma Liu</td>\n",
       "      <td>20</td>\n",
       "      <td>Mathematics</td>\n",
       "      <td>88</td>\n",
       "      <td>91</td>\n",
       "      <td>179</td>\n",
       "      <td>High</td>\n",
       "      <td>Calculus</td>\n",
       "      <td>4</td>\n",
       "    </tr>\n",
       "  </tbody>\n",
       "</table>\n",
       "</div>"
      ],
      "text/plain": [
       "   StudentID        Name  Age             Major  Math_Score  English_Score  \\\n",
       "0       2001  Alice Wong   20  Computer Science          85             78   \n",
       "1       2002    Bob Chen   21       Mathematics          92             85   \n",
       "2       2003   Carol Lee   19           Physics          78             92   \n",
       "3       2004   David Kim   22  Computer Science          96             82   \n",
       "4       2005    Emma Liu   20       Mathematics          88             91   \n",
       "\n",
       "   Total_Score Grade_Level      Course  Credits  \n",
       "0          163      Medium      Python        3  \n",
       "1          177        High  Statistics        4  \n",
       "2          170        High     Physics        3  \n",
       "3          178        High          ML        4  \n",
       "4          179        High    Calculus        4  "
      ]
     },
     "execution_count": 19,
     "metadata": {},
     "output_type": "execute_result"
    }
   ],
   "source": [
    "pd.merge(df_students, df_courses, on='StudentID', how='inner')"
   ]
  },
  {
   "cell_type": "code",
   "execution_count": 20,
   "id": "7594556c",
   "metadata": {},
   "outputs": [
    {
     "data": {
      "text/html": [
       "<div>\n",
       "<style scoped>\n",
       "    .dataframe tbody tr th:only-of-type {\n",
       "        vertical-align: middle;\n",
       "    }\n",
       "\n",
       "    .dataframe tbody tr th {\n",
       "        vertical-align: top;\n",
       "    }\n",
       "\n",
       "    .dataframe thead th {\n",
       "        text-align: right;\n",
       "    }\n",
       "</style>\n",
       "<table border=\"1\" class=\"dataframe\">\n",
       "  <thead>\n",
       "    <tr style=\"text-align: right;\">\n",
       "      <th></th>\n",
       "      <th>StudentID</th>\n",
       "      <th>Name</th>\n",
       "      <th>Age</th>\n",
       "      <th>Major</th>\n",
       "      <th>Math_Score</th>\n",
       "      <th>English_Score</th>\n",
       "      <th>Total_Score</th>\n",
       "      <th>Grade_Level</th>\n",
       "      <th>Course</th>\n",
       "      <th>Credits</th>\n",
       "    </tr>\n",
       "  </thead>\n",
       "  <tbody>\n",
       "    <tr>\n",
       "      <th>0</th>\n",
       "      <td>2001</td>\n",
       "      <td>Alice Wong</td>\n",
       "      <td>20</td>\n",
       "      <td>Computer Science</td>\n",
       "      <td>85</td>\n",
       "      <td>78</td>\n",
       "      <td>163</td>\n",
       "      <td>Medium</td>\n",
       "      <td>Python</td>\n",
       "      <td>3.0</td>\n",
       "    </tr>\n",
       "    <tr>\n",
       "      <th>1</th>\n",
       "      <td>2002</td>\n",
       "      <td>Bob Chen</td>\n",
       "      <td>21</td>\n",
       "      <td>Mathematics</td>\n",
       "      <td>92</td>\n",
       "      <td>85</td>\n",
       "      <td>177</td>\n",
       "      <td>High</td>\n",
       "      <td>Statistics</td>\n",
       "      <td>4.0</td>\n",
       "    </tr>\n",
       "    <tr>\n",
       "      <th>2</th>\n",
       "      <td>2003</td>\n",
       "      <td>Carol Lee</td>\n",
       "      <td>19</td>\n",
       "      <td>Physics</td>\n",
       "      <td>78</td>\n",
       "      <td>92</td>\n",
       "      <td>170</td>\n",
       "      <td>High</td>\n",
       "      <td>Physics</td>\n",
       "      <td>3.0</td>\n",
       "    </tr>\n",
       "    <tr>\n",
       "      <th>3</th>\n",
       "      <td>2004</td>\n",
       "      <td>David Kim</td>\n",
       "      <td>22</td>\n",
       "      <td>Computer Science</td>\n",
       "      <td>96</td>\n",
       "      <td>82</td>\n",
       "      <td>178</td>\n",
       "      <td>High</td>\n",
       "      <td>ML</td>\n",
       "      <td>4.0</td>\n",
       "    </tr>\n",
       "    <tr>\n",
       "      <th>4</th>\n",
       "      <td>2005</td>\n",
       "      <td>Emma Liu</td>\n",
       "      <td>20</td>\n",
       "      <td>Mathematics</td>\n",
       "      <td>88</td>\n",
       "      <td>91</td>\n",
       "      <td>179</td>\n",
       "      <td>High</td>\n",
       "      <td>Calculus</td>\n",
       "      <td>4.0</td>\n",
       "    </tr>\n",
       "    <tr>\n",
       "      <th>5</th>\n",
       "      <td>2006</td>\n",
       "      <td>Frank Tan</td>\n",
       "      <td>21</td>\n",
       "      <td>Physics</td>\n",
       "      <td>91</td>\n",
       "      <td>86</td>\n",
       "      <td>177</td>\n",
       "      <td>High</td>\n",
       "      <td>NaN</td>\n",
       "      <td>NaN</td>\n",
       "    </tr>\n",
       "  </tbody>\n",
       "</table>\n",
       "</div>"
      ],
      "text/plain": [
       "   StudentID        Name  Age             Major  Math_Score  English_Score  \\\n",
       "0       2001  Alice Wong   20  Computer Science          85             78   \n",
       "1       2002    Bob Chen   21       Mathematics          92             85   \n",
       "2       2003   Carol Lee   19           Physics          78             92   \n",
       "3       2004   David Kim   22  Computer Science          96             82   \n",
       "4       2005    Emma Liu   20       Mathematics          88             91   \n",
       "5       2006   Frank Tan   21           Physics          91             86   \n",
       "\n",
       "   Total_Score Grade_Level      Course  Credits  \n",
       "0          163      Medium      Python      3.0  \n",
       "1          177        High  Statistics      4.0  \n",
       "2          170        High     Physics      3.0  \n",
       "3          178        High          ML      4.0  \n",
       "4          179        High    Calculus      4.0  \n",
       "5          177        High         NaN      NaN  "
      ]
     },
     "execution_count": 20,
     "metadata": {},
     "output_type": "execute_result"
    }
   ],
   "source": [
    "pd.merge(df_students, df_courses, on='StudentID', how='left')"
   ]
  },
  {
   "cell_type": "code",
   "execution_count": 21,
   "id": "be7ab5e6",
   "metadata": {},
   "outputs": [
    {
     "data": {
      "text/html": [
       "<div>\n",
       "<style scoped>\n",
       "    .dataframe tbody tr th:only-of-type {\n",
       "        vertical-align: middle;\n",
       "    }\n",
       "\n",
       "    .dataframe tbody tr th {\n",
       "        vertical-align: top;\n",
       "    }\n",
       "\n",
       "    .dataframe thead th {\n",
       "        text-align: right;\n",
       "    }\n",
       "</style>\n",
       "<table border=\"1\" class=\"dataframe\">\n",
       "  <thead>\n",
       "    <tr style=\"text-align: right;\">\n",
       "      <th></th>\n",
       "      <th>StudentID</th>\n",
       "      <th>Name</th>\n",
       "      <th>Course</th>\n",
       "    </tr>\n",
       "  </thead>\n",
       "  <tbody>\n",
       "    <tr>\n",
       "      <th>0</th>\n",
       "      <td>2001</td>\n",
       "      <td>Alice Wong</td>\n",
       "      <td>Python</td>\n",
       "    </tr>\n",
       "    <tr>\n",
       "      <th>1</th>\n",
       "      <td>2002</td>\n",
       "      <td>Bob Chen</td>\n",
       "      <td>Statistics</td>\n",
       "    </tr>\n",
       "    <tr>\n",
       "      <th>2</th>\n",
       "      <td>2003</td>\n",
       "      <td>Carol Lee</td>\n",
       "      <td>Physics</td>\n",
       "    </tr>\n",
       "    <tr>\n",
       "      <th>3</th>\n",
       "      <td>2004</td>\n",
       "      <td>David Kim</td>\n",
       "      <td>ML</td>\n",
       "    </tr>\n",
       "    <tr>\n",
       "      <th>4</th>\n",
       "      <td>2005</td>\n",
       "      <td>Emma Liu</td>\n",
       "      <td>Calculus</td>\n",
       "    </tr>\n",
       "  </tbody>\n",
       "</table>\n",
       "</div>"
      ],
      "text/plain": [
       "   StudentID        Name      Course\n",
       "0       2001  Alice Wong      Python\n",
       "1       2002    Bob Chen  Statistics\n",
       "2       2003   Carol Lee     Physics\n",
       "3       2004   David Kim          ML\n",
       "4       2005    Emma Liu    Calculus"
      ]
     },
     "execution_count": 21,
     "metadata": {},
     "output_type": "execute_result"
    }
   ],
   "source": [
    "inner_merged = pd.merge(df_students, df_courses, on='StudentID', how='inner')\n",
    "inner_merged[['StudentID','Name','Course']].drop_duplicates().sort_values(by=['StudentID','Course'])\n"
   ]
  },
  {
   "cell_type": "code",
   "execution_count": 22,
   "id": "5e8cd234",
   "metadata": {},
   "outputs": [
    {
     "data": {
      "text/html": [
       "<div>\n",
       "<style scoped>\n",
       "    .dataframe tbody tr th:only-of-type {\n",
       "        vertical-align: middle;\n",
       "    }\n",
       "\n",
       "    .dataframe tbody tr th {\n",
       "        vertical-align: top;\n",
       "    }\n",
       "\n",
       "    .dataframe thead th {\n",
       "        text-align: right;\n",
       "    }\n",
       "</style>\n",
       "<table border=\"1\" class=\"dataframe\">\n",
       "  <thead>\n",
       "    <tr style=\"text-align: right;\">\n",
       "      <th></th>\n",
       "      <th>StudentID</th>\n",
       "      <th>Name</th>\n",
       "      <th>Total_Credits</th>\n",
       "    </tr>\n",
       "  </thead>\n",
       "  <tbody>\n",
       "    <tr>\n",
       "      <th>0</th>\n",
       "      <td>2001</td>\n",
       "      <td>Alice Wong</td>\n",
       "      <td>3</td>\n",
       "    </tr>\n",
       "    <tr>\n",
       "      <th>1</th>\n",
       "      <td>2002</td>\n",
       "      <td>Bob Chen</td>\n",
       "      <td>4</td>\n",
       "    </tr>\n",
       "    <tr>\n",
       "      <th>2</th>\n",
       "      <td>2003</td>\n",
       "      <td>Carol Lee</td>\n",
       "      <td>3</td>\n",
       "    </tr>\n",
       "    <tr>\n",
       "      <th>3</th>\n",
       "      <td>2004</td>\n",
       "      <td>David Kim</td>\n",
       "      <td>4</td>\n",
       "    </tr>\n",
       "    <tr>\n",
       "      <th>4</th>\n",
       "      <td>2005</td>\n",
       "      <td>Emma Liu</td>\n",
       "      <td>4</td>\n",
       "    </tr>\n",
       "  </tbody>\n",
       "</table>\n",
       "</div>"
      ],
      "text/plain": [
       "   StudentID        Name  Total_Credits\n",
       "0       2001  Alice Wong              3\n",
       "1       2002    Bob Chen              4\n",
       "2       2003   Carol Lee              3\n",
       "3       2004   David Kim              4\n",
       "4       2005    Emma Liu              4"
      ]
     },
     "execution_count": 22,
     "metadata": {},
     "output_type": "execute_result"
    }
   ],
   "source": [
    "inner_merged.groupby(['StudentID','Name'])['Credits'].sum().reset_index().rename(columns={'Credits':'Total_Credits'})"
   ]
  },
  {
   "cell_type": "code",
   "execution_count": null,
   "id": "2c54598e",
   "metadata": {},
   "outputs": [],
   "source": []
  }
 ],
 "metadata": {
  "kernelspec": {
   "display_name": "base",
   "language": "python",
   "name": "python3"
  },
  "language_info": {
   "codemirror_mode": {
    "name": "ipython",
    "version": 3
   },
   "file_extension": ".py",
   "mimetype": "text/x-python",
   "name": "python",
   "nbconvert_exporter": "python",
   "pygments_lexer": "ipython3",
   "version": "3.11.7"
  }
 },
 "nbformat": 4,
 "nbformat_minor": 5
}
