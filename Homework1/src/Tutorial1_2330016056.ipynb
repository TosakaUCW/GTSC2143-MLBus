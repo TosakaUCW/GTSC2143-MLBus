{
 "cells": [
  {
   "cell_type": "code",
   "execution_count": 7,
   "id": "4a6496e6-ff7d-46fb-9894-d016c9588598",
   "metadata": {},
   "outputs": [],
   "source": [
    "# 1.\n",
    "# a)\n",
    "name = \"Bohan YANG\"\n",
    "id = \"2330016056\"\n",
    "\n",
    "# b)\n",
    "res = 15 ** 3\n",
    "\n",
    "# c)\n",
    "res = 114 / 514\n",
    "\n",
    "# d)\n",
    "a = 114\n",
    "b = 514\n",
    "c = str(a) + str(b)"
   ]
  },
  {
   "cell_type": "code",
   "execution_count": 12,
   "id": "bad7fab0-ca03-46a5-920e-f8a292fb3448",
   "metadata": {},
   "outputs": [],
   "source": [
    "# 2.\n",
    "# a)\n",
    "a = [10, 20, 30, 40, 50]\n",
    "\n",
    "# b)\n",
    "a.append(60)\n",
    "\n",
    "# c)\n",
    "res1 = a[:3]\n",
    "\n",
    "# d)\n",
    "res2 = a[-2:]\n",
    "\n",
    "# e)\n",
    "res3 = a[-2]"
   ]
  },
  {
   "cell_type": "code",
   "execution_count": 18,
   "id": "7938f5f0-3a2b-48d6-8514-12c929734725",
   "metadata": {},
   "outputs": [
    {
     "name": "stdout",
     "output_type": "stream",
     "text": [
      "name : Bohan YANG\n",
      "student_id : 2330016056\n",
      "Has gender key: False\n",
      "Second dictionary: {'name': 'test', 'student_id': 1234}\n"
     ]
    }
   ],
   "source": [
    "# 3.\n",
    "# a)\n",
    "student_info = {\"name\": name, \"student_id\": id}\n",
    "\n",
    "# b)\n",
    "student_info[\"major\"] = \"Computer Science and Technology\"\n",
    "\n",
    "# c)\n",
    "has_gender = \"gender\" in student_info\n",
    "\n",
    "# d)\n",
    "del student_info[\"major\"]\n",
    "\n",
    "# e)\n",
    "for key, value in student_info.items():\n",
    "    print(key, \":\", value)\n",
    "\n",
    "# f)\n",
    "student_info2 = {\"name\": \"test\", \"student_id\": 1234}\n",
    "\n",
    "print(\"Has gender key:\", has_gender)\n",
    "print(\"Second dictionary:\", student_info2)"
   ]
  },
  {
   "cell_type": "code",
   "execution_count": 19,
   "id": "3d5fe062-933d-405c-ab5d-f7f2544276b1",
   "metadata": {},
   "outputs": [],
   "source": [
    "# 4.\n",
    "# a)\n",
    "import pandas as pd\n",
    "\n",
    "# b)\n",
    "df = pd.DataFrame([student_info, student_info2])\n",
    "\n",
    "# c)\n",
    "df.to_csv(\"student_info.csv\", index=False)"
   ]
  },
  {
   "cell_type": "code",
   "execution_count": null,
   "id": "93103e0d-1f7b-4c74-99a0-427588e1325d",
   "metadata": {},
   "outputs": [],
   "source": []
  }
 ],
 "metadata": {
  "kernelspec": {
   "display_name": "Python 3 (ipykernel)",
   "language": "python",
   "name": "python3"
  },
  "language_info": {
   "codemirror_mode": {
    "name": "ipython",
    "version": 3
   },
   "file_extension": ".py",
   "mimetype": "text/x-python",
   "name": "python",
   "nbconvert_exporter": "python",
   "pygments_lexer": "ipython3",
   "version": "3.11.7"
  }
 },
 "nbformat": 4,
 "nbformat_minor": 5
}
