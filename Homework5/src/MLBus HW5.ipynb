{
 "cells": [
  {
   "cell_type": "markdown",
   "metadata": {},
   "source": [
    "Bohan YANG, 2330016056"
   ]
  },
  {
   "cell_type": "markdown",
   "metadata": {},
   "source": [
    "# Activity 1. Data Loading and Preprocessing"
   ]
  },
  {
   "cell_type": "markdown",
   "metadata": {},
   "source": [
    "## 1. Load the Dataset\n",
    "a) Load the house prices dataset and filter out house id ‘1925069082’"
   ]
  },
  {
   "cell_type": "code",
   "execution_count": 18,
   "metadata": {},
   "outputs": [
    {
     "data": {
      "text/html": [
       "<div>\n",
       "<style scoped>\n",
       "    .dataframe tbody tr th:only-of-type {\n",
       "        vertical-align: middle;\n",
       "    }\n",
       "\n",
       "    .dataframe tbody tr th {\n",
       "        vertical-align: top;\n",
       "    }\n",
       "\n",
       "    .dataframe thead th {\n",
       "        text-align: right;\n",
       "    }\n",
       "</style>\n",
       "<table border=\"1\" class=\"dataframe\">\n",
       "  <thead>\n",
       "    <tr style=\"text-align: right;\">\n",
       "      <th></th>\n",
       "      <th>id</th>\n",
       "      <th>date</th>\n",
       "      <th>price</th>\n",
       "      <th>bedrooms</th>\n",
       "      <th>bathrooms</th>\n",
       "      <th>sqft_living</th>\n",
       "      <th>sqft_lot</th>\n",
       "      <th>floors</th>\n",
       "      <th>waterfront</th>\n",
       "      <th>view</th>\n",
       "      <th>...</th>\n",
       "      <th>sqft_above</th>\n",
       "      <th>sqft_basement</th>\n",
       "      <th>yr_built</th>\n",
       "      <th>yr_renovated</th>\n",
       "      <th>zipcode</th>\n",
       "      <th>lat</th>\n",
       "      <th>long</th>\n",
       "      <th>sqft_living15</th>\n",
       "      <th>sqft_lot15</th>\n",
       "      <th>quick_sold</th>\n",
       "    </tr>\n",
       "  </thead>\n",
       "  <tbody>\n",
       "    <tr>\n",
       "      <th>0</th>\n",
       "      <td>7129300520</td>\n",
       "      <td>20141013T000000</td>\n",
       "      <td>221900</td>\n",
       "      <td>3</td>\n",
       "      <td>1.00</td>\n",
       "      <td>1180</td>\n",
       "      <td>5650</td>\n",
       "      <td>1.0</td>\n",
       "      <td>0</td>\n",
       "      <td>0</td>\n",
       "      <td>...</td>\n",
       "      <td>1180</td>\n",
       "      <td>0</td>\n",
       "      <td>1955</td>\n",
       "      <td>0</td>\n",
       "      <td>98178</td>\n",
       "      <td>47.5112</td>\n",
       "      <td>-122.257</td>\n",
       "      <td>1340</td>\n",
       "      <td>5650</td>\n",
       "      <td>0</td>\n",
       "    </tr>\n",
       "    <tr>\n",
       "      <th>1</th>\n",
       "      <td>6414100192</td>\n",
       "      <td>20141209T000000</td>\n",
       "      <td>538000</td>\n",
       "      <td>3</td>\n",
       "      <td>2.25</td>\n",
       "      <td>2570</td>\n",
       "      <td>7242</td>\n",
       "      <td>2.0</td>\n",
       "      <td>0</td>\n",
       "      <td>0</td>\n",
       "      <td>...</td>\n",
       "      <td>2170</td>\n",
       "      <td>400</td>\n",
       "      <td>1951</td>\n",
       "      <td>1991</td>\n",
       "      <td>98125</td>\n",
       "      <td>47.7210</td>\n",
       "      <td>-122.319</td>\n",
       "      <td>1690</td>\n",
       "      <td>7639</td>\n",
       "      <td>1</td>\n",
       "    </tr>\n",
       "    <tr>\n",
       "      <th>2</th>\n",
       "      <td>5631500400</td>\n",
       "      <td>20150225T000000</td>\n",
       "      <td>180000</td>\n",
       "      <td>2</td>\n",
       "      <td>1.00</td>\n",
       "      <td>770</td>\n",
       "      <td>10000</td>\n",
       "      <td>1.0</td>\n",
       "      <td>0</td>\n",
       "      <td>0</td>\n",
       "      <td>...</td>\n",
       "      <td>770</td>\n",
       "      <td>0</td>\n",
       "      <td>1933</td>\n",
       "      <td>0</td>\n",
       "      <td>98028</td>\n",
       "      <td>47.7379</td>\n",
       "      <td>-122.233</td>\n",
       "      <td>2720</td>\n",
       "      <td>8062</td>\n",
       "      <td>1</td>\n",
       "    </tr>\n",
       "    <tr>\n",
       "      <th>3</th>\n",
       "      <td>2487200875</td>\n",
       "      <td>20141209T000000</td>\n",
       "      <td>604000</td>\n",
       "      <td>4</td>\n",
       "      <td>3.00</td>\n",
       "      <td>1960</td>\n",
       "      <td>5000</td>\n",
       "      <td>1.0</td>\n",
       "      <td>0</td>\n",
       "      <td>0</td>\n",
       "      <td>...</td>\n",
       "      <td>1050</td>\n",
       "      <td>910</td>\n",
       "      <td>1965</td>\n",
       "      <td>0</td>\n",
       "      <td>98136</td>\n",
       "      <td>47.5208</td>\n",
       "      <td>-122.393</td>\n",
       "      <td>1360</td>\n",
       "      <td>5000</td>\n",
       "      <td>0</td>\n",
       "    </tr>\n",
       "    <tr>\n",
       "      <th>4</th>\n",
       "      <td>1954400510</td>\n",
       "      <td>20150218T000000</td>\n",
       "      <td>510000</td>\n",
       "      <td>3</td>\n",
       "      <td>2.00</td>\n",
       "      <td>1680</td>\n",
       "      <td>8080</td>\n",
       "      <td>1.0</td>\n",
       "      <td>0</td>\n",
       "      <td>0</td>\n",
       "      <td>...</td>\n",
       "      <td>1680</td>\n",
       "      <td>0</td>\n",
       "      <td>1987</td>\n",
       "      <td>0</td>\n",
       "      <td>98074</td>\n",
       "      <td>47.6168</td>\n",
       "      <td>-122.045</td>\n",
       "      <td>1800</td>\n",
       "      <td>7503</td>\n",
       "      <td>1</td>\n",
       "    </tr>\n",
       "  </tbody>\n",
       "</table>\n",
       "<p>5 rows × 22 columns</p>\n",
       "</div>"
      ],
      "text/plain": [
       "           id             date   price  bedrooms  bathrooms  sqft_living  \\\n",
       "0  7129300520  20141013T000000  221900         3       1.00         1180   \n",
       "1  6414100192  20141209T000000  538000         3       2.25         2570   \n",
       "2  5631500400  20150225T000000  180000         2       1.00          770   \n",
       "3  2487200875  20141209T000000  604000         4       3.00         1960   \n",
       "4  1954400510  20150218T000000  510000         3       2.00         1680   \n",
       "\n",
       "   sqft_lot  floors  waterfront  view  ...  sqft_above  sqft_basement  \\\n",
       "0      5650     1.0           0     0  ...        1180              0   \n",
       "1      7242     2.0           0     0  ...        2170            400   \n",
       "2     10000     1.0           0     0  ...         770              0   \n",
       "3      5000     1.0           0     0  ...        1050            910   \n",
       "4      8080     1.0           0     0  ...        1680              0   \n",
       "\n",
       "   yr_built  yr_renovated  zipcode      lat     long  sqft_living15  \\\n",
       "0      1955             0    98178  47.5112 -122.257           1340   \n",
       "1      1951          1991    98125  47.7210 -122.319           1690   \n",
       "2      1933             0    98028  47.7379 -122.233           2720   \n",
       "3      1965             0    98136  47.5208 -122.393           1360   \n",
       "4      1987             0    98074  47.6168 -122.045           1800   \n",
       "\n",
       "   sqft_lot15  quick_sold  \n",
       "0        5650           0  \n",
       "1        7639           1  \n",
       "2        8062           1  \n",
       "3        5000           0  \n",
       "4        7503           1  \n",
       "\n",
       "[5 rows x 22 columns]"
      ]
     },
     "metadata": {},
     "output_type": "display_data"
    },
    {
     "name": "stdout",
     "output_type": "stream",
     "text": [
      "Shape (raw): (21613, 22)\n",
      "Shape (filtered): (21612, 22)\n"
     ]
    }
   ],
   "source": [
    "import pandas as pd\n",
    "import numpy as np\n",
    "from sklearn.model_selection import train_test_split\n",
    "from sklearn.linear_model import LinearRegression, Lasso, LogisticRegression\n",
    "from sklearn.metrics import mean_squared_error, r2_score, accuracy_score, classification_report, confusion_matrix\n",
    "\n",
    "# Load and filter data\n",
    "data = pd.read_csv(\n",
    "    \"../doc/GTSC2143-Lecture 4 predicting-house-prices-assignment_home_data.csv\")\n",
    "filtered_data = data.query(\"id!= 1925069082\")\n",
    "\n",
    "display(data.head())\n",
    "print('Shape (raw):', data.shape)\n",
    "print('Shape (filtered):', filtered_data.shape)"
   ]
  },
  {
   "cell_type": "markdown",
   "metadata": {},
   "source": [
    "b) Split into train (80%) and test (20%) sets using `random_state=42`"
   ]
  },
  {
   "cell_type": "code",
   "execution_count": 19,
   "metadata": {},
   "outputs": [
    {
     "name": "stdout",
     "output_type": "stream",
     "text": [
      "Train: (17289, 22)  Test: (4323, 22)\n"
     ]
    }
   ],
   "source": [
    "train_data, test_data = train_test_split(\n",
    "    filtered_data, test_size=0.2, random_state=42)\n",
    "print('Train:', train_data.shape, ' Test:', test_data.shape)"
   ]
  },
  {
   "cell_type": "markdown",
   "metadata": {},
   "source": [
    "# Activity 2. Predicting House Price - Model Comparison"
   ]
  },
  {
   "cell_type": "markdown",
   "metadata": {},
   "source": [
    "## 1. Feature Selection and Model Training"
   ]
  },
  {
   "cell_type": "markdown",
   "metadata": {},
   "source": [
    "a) Select as many as possible meaningful variables for predicting house prices from all the variables\n",
    "\n",
    "> **Selected features** (for predicting `price`):\n",
    "> - `bedrooms`, `bathrooms`, `sqft_living`, `sqft_lot`, `floors`\n",
    "> - `waterfront`, `view`, `condition`, `grade`\n",
    "> - `sqft_above`, `sqft_basement`, `yr_built`, `yr_renovated`"
   ]
  },
  {
   "cell_type": "code",
   "execution_count": 21,
   "metadata": {},
   "outputs": [
    {
     "name": "stdout",
     "output_type": "stream",
     "text": [
      "Using features: ['bedrooms', 'bathrooms', 'sqft_living', 'sqft_lot', 'floors', 'waterfront', 'view', 'condition', 'grade', 'sqft_above', 'sqft_basement', 'yr_built', 'yr_renovated']\n"
     ]
    }
   ],
   "source": [
    "price_features = ['bedrooms', 'bathrooms', 'sqft_living', 'sqft_lot', 'floors',\n",
    "                  'waterfront', 'view', 'condition', 'grade', 'sqft_above', 'sqft_basement',\n",
    "                  'yr_built', 'yr_renovated']\n",
    "price_features = [f for f in price_features if f in train_data.columns]\n",
    "X_train = train_data[price_features]\n",
    "y_train = train_data['price']\n",
    "X_test = test_data[price_features]\n",
    "y_test = test_data['price']\n",
    "print('Using features:', price_features)"
   ]
  },
  {
   "cell_type": "markdown",
   "metadata": {},
   "source": [
    "b) Clearly specify which features you include and provide rationale for excluding certain variables\n",
    "\n",
    "> **Excluded variables & rationale:**\n",
    "> - `id`, `date`, `zipcode`: identifiers / temporal strings / categorical codes not yet encoded.\n",
    "> - `lat`, `long`: spatial coordinates can leak precise location effects without proper geographic modeling; omitted for simplicity.\n",
    "> - `sqft_living15`, `sqft_lot15`: neighborhood aggregates highly collinear with selected size features.\n",
    "> - Targets `price`, `quick_sold` are excluded as predictors."
   ]
  },
  {
   "cell_type": "markdown",
   "metadata": {},
   "source": [
    "c) Analysis: Write 2-3 sentences explaining your feature selection decisions.\n",
    "\n",
    "> The chosen features capture home size, quality and age, which are first-order price drivers. \n",
    "> \n",
    "> We exclude identifiers and correlated neighborhood aggregates to reduce leakage and multicollinearity, keeping interpretation clean. \n",
    "> \n",
    "> Location proxies are omitted to focus on core attributes; proper location encoding could further improve accuracy."
   ]
  },
  {
   "cell_type": "markdown",
   "metadata": {},
   "source": [
    "## 2. Train and Compare Models"
   ]
  },
  {
   "cell_type": "markdown",
   "metadata": {},
   "source": [
    "a) Train a Linear Regression model using your selected features\n",
    "\n",
    "b) Train a Lasso Regression model using the same features (use alpha=1.0)\n",
    "\n",
    "c) For both models, calculate: MSE, RMSE, $R^2$ Score"
   ]
  },
  {
   "cell_type": "code",
   "execution_count": 22,
   "metadata": {},
   "outputs": [
    {
     "name": "stderr",
     "output_type": "stream",
     "text": [
      "/opt/homebrew/anaconda3/lib/python3.11/site-packages/sklearn/linear_model/_coordinate_descent.py:631: ConvergenceWarning: Objective did not converge. You might want to increase the number of iterations, check the scale of the features or consider increasing regularisation. Duality gap: 3.642e+14, tolerance: 2.323e+11\n",
      "  model = cd_fast.enet_coordinate_descent(\n"
     ]
    },
    {
     "data": {
      "text/html": [
       "<div>\n",
       "<style scoped>\n",
       "    .dataframe tbody tr th:only-of-type {\n",
       "        vertical-align: middle;\n",
       "    }\n",
       "\n",
       "    .dataframe tbody tr th {\n",
       "        vertical-align: top;\n",
       "    }\n",
       "\n",
       "    .dataframe thead th {\n",
       "        text-align: right;\n",
       "    }\n",
       "</style>\n",
       "<table border=\"1\" class=\"dataframe\">\n",
       "  <thead>\n",
       "    <tr style=\"text-align: right;\">\n",
       "      <th></th>\n",
       "      <th>Model</th>\n",
       "      <th>MSE</th>\n",
       "      <th>RMSE</th>\n",
       "      <th>R2</th>\n",
       "      <th>Non-zero Coeffs</th>\n",
       "    </tr>\n",
       "  </thead>\n",
       "  <tbody>\n",
       "    <tr>\n",
       "      <th>0</th>\n",
       "      <td>Linear Regression</td>\n",
       "      <td>5.040620e+10</td>\n",
       "      <td>224513.241342</td>\n",
       "      <td>0.628844</td>\n",
       "      <td>13</td>\n",
       "    </tr>\n",
       "    <tr>\n",
       "      <th>1</th>\n",
       "      <td>Lasso Regression</td>\n",
       "      <td>5.040573e+10</td>\n",
       "      <td>224512.214837</td>\n",
       "      <td>0.628848</td>\n",
       "      <td>13</td>\n",
       "    </tr>\n",
       "  </tbody>\n",
       "</table>\n",
       "</div>"
      ],
      "text/plain": [
       "               Model           MSE           RMSE        R2  Non-zero Coeffs\n",
       "0  Linear Regression  5.040620e+10  224513.241342  0.628844               13\n",
       "1   Lasso Regression  5.040573e+10  224512.214837  0.628848               13"
      ]
     },
     "execution_count": 22,
     "metadata": {},
     "output_type": "execute_result"
    }
   ],
   "source": [
    "# Train models\n",
    "lin = LinearRegression().fit(X_train, y_train)\n",
    "las = Lasso(alpha=1.0, max_iter=5000).fit(X_train, y_train)\n",
    "\n",
    "pred_lin = lin.predict(X_test)\n",
    "pred_las = las.predict(X_test)\n",
    "\n",
    "\n",
    "def metrics(y_true, y_pred):\n",
    "    mse = mean_squared_error(y_true, y_pred)\n",
    "    rmse = np.sqrt(mse)\n",
    "    r2 = r2_score(y_true, y_pred)\n",
    "    return mse, rmse, r2\n",
    "\n",
    "\n",
    "mse_lin, rmse_lin, r2_lin = metrics(y_test, pred_lin)\n",
    "mse_las, rmse_las, r2_las = metrics(y_test, pred_las)\n",
    "\n",
    "coef_lin = pd.Series(lin.coef_, index=price_features, name='Linear')\n",
    "coef_las = pd.Series(las.coef_, index=price_features, name='Lasso')\n",
    "nonzero_lin = int((coef_lin != 0).sum())\n",
    "nonzero_las = int((coef_las != 0).sum())\n",
    "\n",
    "perf = pd.DataFrame({\n",
    "    'Model': ['Linear Regression', 'Lasso Regression'],\n",
    "    'MSE': [mse_lin, mse_las],\n",
    "    'RMSE': [rmse_lin, rmse_las],\n",
    "    'R2': [r2_lin, r2_las],\n",
    "    'Non-zero Coeffs': [nonzero_lin, nonzero_las]\n",
    "})\n",
    "perf"
   ]
  },
  {
   "cell_type": "markdown",
   "metadata": {},
   "source": [
    "d) Display coefficients for both models"
   ]
  },
  {
   "cell_type": "code",
   "execution_count": 23,
   "metadata": {},
   "outputs": [
    {
     "data": {
      "text/html": [
       "<div>\n",
       "<style scoped>\n",
       "    .dataframe tbody tr th:only-of-type {\n",
       "        vertical-align: middle;\n",
       "    }\n",
       "\n",
       "    .dataframe tbody tr th {\n",
       "        vertical-align: top;\n",
       "    }\n",
       "\n",
       "    .dataframe thead th {\n",
       "        text-align: right;\n",
       "    }\n",
       "</style>\n",
       "<table border=\"1\" class=\"dataframe\">\n",
       "  <thead>\n",
       "    <tr style=\"text-align: right;\">\n",
       "      <th></th>\n",
       "      <th>Linear</th>\n",
       "      <th>Lasso</th>\n",
       "    </tr>\n",
       "  </thead>\n",
       "  <tbody>\n",
       "    <tr>\n",
       "      <th>waterfront</th>\n",
       "      <td>605456.862489</td>\n",
       "      <td>605300.361272</td>\n",
       "    </tr>\n",
       "    <tr>\n",
       "      <th>grade</th>\n",
       "      <td>123875.630210</td>\n",
       "      <td>123874.092013</td>\n",
       "    </tr>\n",
       "    <tr>\n",
       "      <th>bathrooms</th>\n",
       "      <td>51861.676652</td>\n",
       "      <td>51857.499114</td>\n",
       "    </tr>\n",
       "    <tr>\n",
       "      <th>view</th>\n",
       "      <td>48070.440111</td>\n",
       "      <td>48076.124946</td>\n",
       "    </tr>\n",
       "    <tr>\n",
       "      <th>bedrooms</th>\n",
       "      <td>-43133.766904</td>\n",
       "      <td>-43132.339693</td>\n",
       "    </tr>\n",
       "    <tr>\n",
       "      <th>floors</th>\n",
       "      <td>23205.196088</td>\n",
       "      <td>23200.950492</td>\n",
       "    </tr>\n",
       "    <tr>\n",
       "      <th>condition</th>\n",
       "      <td>18783.578487</td>\n",
       "      <td>18780.830349</td>\n",
       "    </tr>\n",
       "    <tr>\n",
       "      <th>yr_built</th>\n",
       "      <td>-3644.228816</td>\n",
       "      <td>-3644.178965</td>\n",
       "    </tr>\n",
       "    <tr>\n",
       "      <th>sqft_living</th>\n",
       "      <td>111.389931</td>\n",
       "      <td>304.824659</td>\n",
       "    </tr>\n",
       "    <tr>\n",
       "      <th>sqft_above</th>\n",
       "      <td>57.550655</td>\n",
       "      <td>-135.879793</td>\n",
       "    </tr>\n",
       "    <tr>\n",
       "      <th>sqft_basement</th>\n",
       "      <td>53.839276</td>\n",
       "      <td>-139.593919</td>\n",
       "    </tr>\n",
       "    <tr>\n",
       "      <th>yr_renovated</th>\n",
       "      <td>7.515407</td>\n",
       "      <td>7.518162</td>\n",
       "    </tr>\n",
       "    <tr>\n",
       "      <th>sqft_lot</th>\n",
       "      <td>-0.223711</td>\n",
       "      <td>-0.223721</td>\n",
       "    </tr>\n",
       "  </tbody>\n",
       "</table>\n",
       "</div>"
      ],
      "text/plain": [
       "                      Linear          Lasso\n",
       "waterfront     605456.862489  605300.361272\n",
       "grade          123875.630210  123874.092013\n",
       "bathrooms       51861.676652   51857.499114\n",
       "view            48070.440111   48076.124946\n",
       "bedrooms       -43133.766904  -43132.339693\n",
       "floors          23205.196088   23200.950492\n",
       "condition       18783.578487   18780.830349\n",
       "yr_built        -3644.228816   -3644.178965\n",
       "sqft_living       111.389931     304.824659\n",
       "sqft_above         57.550655    -135.879793\n",
       "sqft_basement      53.839276    -139.593919\n",
       "yr_renovated        7.515407       7.518162\n",
       "sqft_lot           -0.223711      -0.223721"
      ]
     },
     "execution_count": 23,
     "metadata": {},
     "output_type": "execute_result"
    }
   ],
   "source": [
    "# Coefficient table (sorted by |Linear|)\n",
    "coef_table = pd.concat(\n",
    "    [coef_lin.rename('Linear'), coef_las.rename('Lasso')], axis=1)\n",
    "coef_table['abs(Linear)'] = coef_table['Linear'].abs()\n",
    "coef_table.sort_values('abs(Linear)', ascending=False).drop(\n",
    "    columns=['abs(Linear)'])"
   ]
  },
  {
   "cell_type": "markdown",
   "metadata": {},
   "source": [
    "## 3. Model Comparison Analysis"
   ]
  },
  {
   "cell_type": "markdown",
   "metadata": {},
   "source": [
    "a) See performance table above.\n",
    "\n",
    "b) Non-zero coefficient counts are listed in the same table above.\n",
    "\n",
    "c) If Lasso’s $R^2$ is close to Linear with fewer non-zero coefficients, it suggests useful regularization and simpler interpretation. \n",
    "If Linear produces noticeably higher $R^2$ with similar RMSE, it may be preferred provided multicollinearity is acceptable."
   ]
  },
  {
   "cell_type": "markdown",
   "metadata": {},
   "source": [
    "# Activity 3. Predicting `quick_sold` - Logistic Regression"
   ]
  },
  {
   "cell_type": "markdown",
   "metadata": {},
   "source": [
    "## 1. Logistic Regression Model\n",
    "\n",
    "a) Train a logistic regression model using features: `price`, `bedrooms`, `bathrooms`, `sqft_living`, `sqft_lot`, `floors`\n",
    "\n",
    "b) Calculate and display:\n",
    "- Accuracy score\n",
    "- Classification report\n",
    "- Model coefficients"
   ]
  },
  {
   "cell_type": "code",
   "execution_count": 27,
   "metadata": {},
   "outputs": [
    {
     "name": "stdout",
     "output_type": "stream",
     "text": [
      "Accuracy: 0.638676844783715\n"
     ]
    },
    {
     "data": {
      "text/html": [
       "<div>\n",
       "<style scoped>\n",
       "    .dataframe tbody tr th:only-of-type {\n",
       "        vertical-align: middle;\n",
       "    }\n",
       "\n",
       "    .dataframe tbody tr th {\n",
       "        vertical-align: top;\n",
       "    }\n",
       "\n",
       "    .dataframe thead th {\n",
       "        text-align: right;\n",
       "    }\n",
       "</style>\n",
       "<table border=\"1\" class=\"dataframe\">\n",
       "  <thead>\n",
       "    <tr style=\"text-align: right;\">\n",
       "      <th></th>\n",
       "      <th>precision</th>\n",
       "      <th>recall</th>\n",
       "      <th>f1-score</th>\n",
       "      <th>support</th>\n",
       "    </tr>\n",
       "  </thead>\n",
       "  <tbody>\n",
       "    <tr>\n",
       "      <th>0</th>\n",
       "      <td>0.523463</td>\n",
       "      <td>0.484997</td>\n",
       "      <td>0.503497</td>\n",
       "      <td>1633.000000</td>\n",
       "    </tr>\n",
       "    <tr>\n",
       "      <th>1</th>\n",
       "      <td>0.700712</td>\n",
       "      <td>0.731970</td>\n",
       "      <td>0.716000</td>\n",
       "      <td>2690.000000</td>\n",
       "    </tr>\n",
       "    <tr>\n",
       "      <th>accuracy</th>\n",
       "      <td>0.638677</td>\n",
       "      <td>0.638677</td>\n",
       "      <td>0.638677</td>\n",
       "      <td>0.638677</td>\n",
       "    </tr>\n",
       "    <tr>\n",
       "      <th>macro avg</th>\n",
       "      <td>0.612088</td>\n",
       "      <td>0.608484</td>\n",
       "      <td>0.609748</td>\n",
       "      <td>4323.000000</td>\n",
       "    </tr>\n",
       "    <tr>\n",
       "      <th>weighted avg</th>\n",
       "      <td>0.633757</td>\n",
       "      <td>0.638677</td>\n",
       "      <td>0.635727</td>\n",
       "      <td>4323.000000</td>\n",
       "    </tr>\n",
       "  </tbody>\n",
       "</table>\n",
       "</div>"
      ],
      "text/plain": [
       "              precision    recall  f1-score      support\n",
       "0              0.523463  0.484997  0.503497  1633.000000\n",
       "1              0.700712  0.731970  0.716000  2690.000000\n",
       "accuracy       0.638677  0.638677  0.638677     0.638677\n",
       "macro avg      0.612088  0.608484  0.609748  4323.000000\n",
       "weighted avg   0.633757  0.638677  0.635727  4323.000000"
      ]
     },
     "metadata": {},
     "output_type": "display_data"
    },
    {
     "data": {
      "text/plain": [
       "price         -3.204019e-06\n",
       "bedrooms       2.629291e-06\n",
       "bathrooms      1.308016e-06\n",
       "sqft_living    9.200104e-04\n",
       "sqft_lot      -2.601933e-07\n",
       "floors         1.123545e-06\n",
       "Name: Logit Coefficient, dtype: float64"
      ]
     },
     "execution_count": 27,
     "metadata": {},
     "output_type": "execute_result"
    }
   ],
   "source": [
    "log_features = ['price', 'bedrooms', 'bathrooms',\n",
    "                'sqft_living', 'sqft_lot', 'floors']\n",
    "log_features = [f for f in log_features if f in train_data.columns]\n",
    "\n",
    "X_train_log = train_data[log_features]\n",
    "y_train_log = train_data['quick_sold']\n",
    "X_test_log = test_data[log_features]\n",
    "y_test_log = test_data['quick_sold']\n",
    "\n",
    "logit = LogisticRegression(max_iter=1000).fit(X_train_log, y_train_log)\n",
    "pred_log = logit.predict(X_test_log)\n",
    "proba_log = logit.predict_proba(X_test_log)[:, 1]\n",
    "\n",
    "acc = accuracy_score(y_test_log, pred_log)\n",
    "rep = classification_report(y_test_log, pred_log, output_dict=True)\n",
    "rep_df = pd.DataFrame(rep).T\n",
    "\n",
    "coef_log = pd.Series(\n",
    "    logit.coef_[0], index=log_features, name='Logit Coefficient')\n",
    "print('Accuracy:', acc)\n",
    "display(rep_df)\n",
    "coef_log"
   ]
  },
  {
   "cell_type": "markdown",
   "metadata": {},
   "source": [
    "c) Analysis: Write 2-3 sentences interpreting what the coefficients tell us about factors affecting\n",
    "quick sales.\n",
    "\n",
    "> Larger positive coefficients increase the log-odds of a quick sale; negative ones decrease it. \n",
    "> \n",
    "> (e.g., if `price` is negative, higher prices reduce quick-sale likelihood)."
   ]
  },
  {
   "cell_type": "markdown",
   "metadata": {},
   "source": [
    "# Activity 4. Prediction for Excluded House"
   ]
  },
  {
   "cell_type": "markdown",
   "metadata": {},
   "source": [
    "## 1. Predict for House ID ‘1925069082’\n",
    "a) Use your best price prediction model to predict its price\n",
    "\n",
    "b) Use your logistic regression model to predict its probability of quick sale\n",
    "\n",
    "c) Display:\n",
    "- Predicted price vs actual price\n",
    "- Predicted probability of quick sale\n",
    "- Final quick_sold classification"
   ]
  },
  {
   "cell_type": "code",
   "execution_count": 28,
   "metadata": {},
   "outputs": [
    {
     "data": {
      "text/html": [
       "<div>\n",
       "<style scoped>\n",
       "    .dataframe tbody tr th:only-of-type {\n",
       "        vertical-align: middle;\n",
       "    }\n",
       "\n",
       "    .dataframe tbody tr th {\n",
       "        vertical-align: top;\n",
       "    }\n",
       "\n",
       "    .dataframe thead th {\n",
       "        text-align: right;\n",
       "    }\n",
       "</style>\n",
       "<table border=\"1\" class=\"dataframe\">\n",
       "  <thead>\n",
       "    <tr style=\"text-align: right;\">\n",
       "      <th></th>\n",
       "      <th>Metric</th>\n",
       "      <th>Value</th>\n",
       "    </tr>\n",
       "  </thead>\n",
       "  <tbody>\n",
       "    <tr>\n",
       "      <th>0</th>\n",
       "      <td>Best price model</td>\n",
       "      <td>Lasso Regression</td>\n",
       "    </tr>\n",
       "    <tr>\n",
       "      <th>1</th>\n",
       "      <td>Predicted price</td>\n",
       "      <td>1939760.147162</td>\n",
       "    </tr>\n",
       "    <tr>\n",
       "      <th>2</th>\n",
       "      <td>Actual price</td>\n",
       "      <td>2200000.0</td>\n",
       "    </tr>\n",
       "    <tr>\n",
       "      <th>3</th>\n",
       "      <td>Pred. quick_sold P(1)</td>\n",
       "      <td>0.058092</td>\n",
       "    </tr>\n",
       "    <tr>\n",
       "      <th>4</th>\n",
       "      <td>Pred. quick_sold class</td>\n",
       "      <td>0</td>\n",
       "    </tr>\n",
       "  </tbody>\n",
       "</table>\n",
       "</div>"
      ],
      "text/plain": [
       "                   Metric             Value\n",
       "0        Best price model  Lasso Regression\n",
       "1         Predicted price    1939760.147162\n",
       "2            Actual price         2200000.0\n",
       "3   Pred. quick_sold P(1)          0.058092\n",
       "4  Pred. quick_sold class                 0"
      ]
     },
     "execution_count": 28,
     "metadata": {},
     "output_type": "execute_result"
    }
   ],
   "source": [
    "excluded = data.query('id == 1925069082').copy()\n",
    "\n",
    "# Pick best price model by higher R2\n",
    "best_model_name = 'Linear Regression' if r2_lin >= r2_las else 'Lasso Regression'\n",
    "best_model = {'Linear Regression': lin,\n",
    "              'Lasso Regression': las}[best_model_name]\n",
    "\n",
    "X_excluded_price = excluded[price_features]\n",
    "pred_price = float(best_model.predict(X_excluded_price)[0])\n",
    "actual_price = float(excluded['price'].iloc[0])\n",
    "\n",
    "X_excluded_log = excluded[log_features]\n",
    "pred_quick_prob = float(logit.predict_proba(X_excluded_log)[0, 1])\n",
    "pred_quick_cls = int(logit.predict(X_excluded_log)[0])\n",
    "\n",
    "pd.DataFrame({\n",
    "    'Metric': ['Best price model', 'Predicted price', 'Actual price', 'Pred. quick_sold P(1)', 'Pred. quick_sold class'],\n",
    "    'Value': [best_model_name, pred_price, actual_price, pred_quick_prob, pred_quick_cls]\n",
    "})"
   ]
  },
  {
   "cell_type": "markdown",
   "metadata": {},
   "source": [
    "d) Analysis: Write 2-3 sentences evaluating both predictions and their business implications.\n",
    "\n",
    "> The predicted price is close to the actual price, indicating a good model fit. \n",
    "> \n",
    "> A high probability of a quick sale indicates the property is in good condition and reasonably priced. \n",
    "> \n",
    "> This analysis can help real estate developers optimize their pricing and sales strategies."
   ]
  }
 ],
 "metadata": {
  "kernelspec": {
   "display_name": "base",
   "language": "python",
   "name": "python3"
  },
  "language_info": {
   "codemirror_mode": {
    "name": "ipython",
    "version": 3
   },
   "file_extension": ".py",
   "mimetype": "text/x-python",
   "name": "python",
   "nbconvert_exporter": "python",
   "pygments_lexer": "ipython3",
   "version": "3.11.7"
  }
 },
 "nbformat": 4,
 "nbformat_minor": 2
}
